{
 "cells": [
  {
   "cell_type": "markdown",
   "metadata": {},
   "source": [
    "## I. Basic Selenium"
   ]
  },
  {
   "cell_type": "markdown",
   "metadata": {},
   "source": [
    "**Import selenium and open webdriver**\n",
    "\n",
    "```python\n",
    "from selenium import webdriver\n",
    "driver = webdriver.Chrome(\"./chromedriver\")\n",
    "```"
   ]
  },
  {
   "cell_type": "code",
   "execution_count": null,
   "metadata": {},
   "outputs": [],
   "source": []
  },
  {
   "cell_type": "markdown",
   "metadata": {},
   "source": [
    "**Get webpage:** `driver.get(\"https://amazon.com/\")`"
   ]
  },
  {
   "cell_type": "code",
   "execution_count": null,
   "metadata": {},
   "outputs": [],
   "source": []
  },
  {
   "cell_type": "markdown",
   "metadata": {},
   "source": [
    "**Select element by link text:** `link = driver.find_element_by_link_text(\"Today's Deals\")`"
   ]
  },
  {
   "cell_type": "code",
   "execution_count": null,
   "metadata": {},
   "outputs": [],
   "source": []
  },
  {
   "cell_type": "markdown",
   "metadata": {},
   "source": [
    "**Click on element:** `link.click()`"
   ]
  },
  {
   "cell_type": "code",
   "execution_count": null,
   "metadata": {},
   "outputs": [],
   "source": []
  },
  {
   "cell_type": "markdown",
   "metadata": {},
   "source": [
    "**Select element(s) by CSS selector:** `driver.find_element_by_css_selector('.category')`"
   ]
  },
  {
   "cell_type": "code",
   "execution_count": null,
   "metadata": {},
   "outputs": [],
   "source": []
  },
  {
   "cell_type": "markdown",
   "metadata": {},
   "source": [
    "## Exercises\n",
    "\n",
    "---\n",
    "\n",
    "**1. Make your browser navigate to** `https://newyork.craigslist.org/`"
   ]
  },
  {
   "cell_type": "code",
   "execution_count": null,
   "metadata": {},
   "outputs": [],
   "source": []
  },
  {
   "cell_type": "markdown",
   "metadata": {},
   "source": [
    "**2. Select and click on the link for** `free` **items.**"
   ]
  },
  {
   "cell_type": "code",
   "execution_count": null,
   "metadata": {},
   "outputs": [],
   "source": []
  },
  {
   "cell_type": "markdown",
   "metadata": {},
   "source": [
    "**3. Select and click the link labeled** `newest` **to sort items by post date.**"
   ]
  },
  {
   "cell_type": "code",
   "execution_count": null,
   "metadata": {},
   "outputs": [],
   "source": []
  },
  {
   "cell_type": "markdown",
   "metadata": {},
   "source": [
    "**4. Click on the link labeled** `reset` **to return the results to normal.**"
   ]
  },
  {
   "cell_type": "code",
   "execution_count": 176,
   "metadata": {},
   "outputs": [],
   "source": []
  },
  {
   "cell_type": "markdown",
   "metadata": {},
   "source": [
    "**5. Use a CSS selector to target the checkbox labeled** `has image` **then click it.**"
   ]
  },
  {
   "cell_type": "code",
   "execution_count": null,
   "metadata": {},
   "outputs": [],
   "source": []
  },
  {
   "cell_type": "markdown",
   "metadata": {},
   "source": [
    "## II. Text with Selenium"
   ]
  },
  {
   "cell_type": "markdown",
   "metadata": {},
   "source": [
    "**Get inner text from HTML element:** `element.text`"
   ]
  },
  {
   "cell_type": "code",
   "execution_count": null,
   "metadata": {},
   "outputs": [],
   "source": []
  },
  {
   "cell_type": "markdown",
   "metadata": {},
   "source": [
    "**Get attribute from HTML element:** `element.get_attribute('href')`"
   ]
  },
  {
   "cell_type": "code",
   "execution_count": null,
   "metadata": {},
   "outputs": [],
   "source": []
  },
  {
   "cell_type": "markdown",
   "metadata": {},
   "source": [
    "**Input text into field:** `search_bar.send_keys('roomba')`"
   ]
  },
  {
   "cell_type": "code",
   "execution_count": null,
   "metadata": {},
   "outputs": [],
   "source": []
  },
  {
   "cell_type": "markdown",
   "metadata": {},
   "source": [
    "**Take a screenshot:** `driver.save_screenshot()`"
   ]
  },
  {
   "cell_type": "code",
   "execution_count": null,
   "metadata": {},
   "outputs": [],
   "source": []
  },
  {
   "cell_type": "markdown",
   "metadata": {},
   "source": [
    "## Exercises\n",
    "\n",
    "---\n",
    "**1. Use a CSS selector to target all the item titles**"
   ]
  },
  {
   "cell_type": "code",
   "execution_count": null,
   "metadata": {},
   "outputs": [],
   "source": []
  },
  {
   "cell_type": "markdown",
   "metadata": {},
   "source": [
    "## III. File I/O and Python Review"
   ]
  },
  {
   "cell_type": "markdown",
   "metadata": {},
   "source": [
    "**Read lines from file**"
   ]
  },
  {
   "cell_type": "markdown",
   "metadata": {},
   "source": [
    "```python\n",
    "with open('items.csv') as f:\n",
    "    for line in f.readlines():\n",
    "        print(line)\n",
    "```"
   ]
  },
  {
   "cell_type": "code",
   "execution_count": null,
   "metadata": {},
   "outputs": [],
   "source": []
  },
  {
   "cell_type": "markdown",
   "metadata": {},
   "source": [
    "**Splitting a string:** `\"gucci belt|clothes+acc|2|20\".split(\"|\")`"
   ]
  },
  {
   "cell_type": "code",
   "execution_count": null,
   "metadata": {},
   "outputs": [],
   "source": []
  },
  {
   "cell_type": "markdown",
   "metadata": {},
   "source": [
    "**Convert string to float:** `float(\"4.32\")`"
   ]
  },
  {
   "cell_type": "code",
   "execution_count": null,
   "metadata": {},
   "outputs": [],
   "source": []
  },
  {
   "cell_type": "markdown",
   "metadata": {},
   "source": [
    "**Write to a file**"
   ]
  },
  {
   "cell_type": "markdown",
   "metadata": {},
   "source": [
    "```python\n",
    "with open('results.csv', 'a') as f:\n",
    "    f.write(\"test,test,1,2\\n\")\n",
    "```"
   ]
  },
  {
   "cell_type": "code",
   "execution_count": 158,
   "metadata": {},
   "outputs": [],
   "source": []
  },
  {
   "cell_type": "markdown",
   "metadata": {},
   "source": [
    "## Exercises\n",
    "\n",
    "---\n",
    "\n",
    "**1. Make your browser navigate to** `https://newyork.craigslist.org/`"
   ]
  },
  {
   "cell_type": "markdown",
   "metadata": {},
   "source": [
    "## IV. Sending e-mail"
   ]
  },
  {
   "cell_type": "markdown",
   "metadata": {},
   "source": [
    "**Import yagmail package:** `import yagmail`"
   ]
  },
  {
   "cell_type": "code",
   "execution_count": null,
   "metadata": {},
   "outputs": [],
   "source": []
  },
  {
   "cell_type": "markdown",
   "metadata": {},
   "source": [
    "**Sender username and password**: `yag = yagmail.SMTP('automatedalertbot', wifi_password_goes_here)`"
   ]
  },
  {
   "cell_type": "code",
   "execution_count": null,
   "metadata": {},
   "outputs": [],
   "source": []
  },
  {
   "cell_type": "markdown",
   "metadata": {},
   "source": [
    "**Send message:** `yag.send(your_address_goes_here, 'this is my subject', \"this is my message\")`\n",
    "\n",
    "Note: If you want to text your phone instead, you can use the table below to find the e-mail address to text."
   ]
  },
  {
   "cell_type": "code",
   "execution_count": null,
   "metadata": {},
   "outputs": [],
   "source": []
  },
  {
   "cell_type": "markdown",
   "metadata": {},
   "source": [
    "## Exercises\n",
    "\n",
    "---\n",
    "\n",
    "**1. Use the "
   ]
  },
  {
   "cell_type": "markdown",
   "metadata": {},
   "source": [
    "**2. Use the table below to find your phone carrier, and send a message to your phone instead.**"
   ]
  },
  {
   "cell_type": "markdown",
   "metadata": {},
   "source": [
    "<table class=\"styled\" style=\"width: 547.365px;\" border=\"0\" align=\"center\">\n",
    "<tbody>\n",
    "<tr>\n",
    "<td style=\"text-align: center; width: 145px;\"><strong>Carrier</strong></td>\n",
    "<td style=\"text-align: center; width: 375px;\"><strong>SMS gateway domain</strong></td>\n",
    "<td style=\"text-align: center; width: 20.3646px;\"><strong>MMS gateway domain</strong></td>\n",
    "</tr>\n",
    "<tr>\n",
    "<td style=\"text-align: center; width: 145px;\"><strong>Alltel</strong></td>\n",
    "<td style=\"text-align: center; width: 375px;\">[insert 10-digit number]@message.alltel.com</td>\n",
    "<td style=\"text-align: center; width: 20.3646px;\">[insert 10-digit number]@mms.alltelwireless.com</td>\n",
    "</tr>\n",
    "<tr>\n",
    "<td style=\"text-align: center; width: 145px;\"><strong>AT&amp;T</strong></td>\n",
    "<td style=\"text-align: center; width: 375px;\">[insert 10-digit number]@txt.att.net</td>\n",
    "<td style=\"text-align: center; width: 20.3646px;\">[insert 10-digit number]@mms.att.net</td>\n",
    "</tr>\n",
    "<tr>\n",
    "<td style=\"text-align: center; width: 145px;\"><strong>Boost Mobile</strong></td>\n",
    "<td style=\"text-align: center; width: 375px;\">[insert 10-digit number]@myboostmobile.com</td>\n",
    "<td style=\"text-align: center; width: 20.3646px;\">[insert 10-digit number]@myboostmobile.com</td>\n",
    "</tr>\n",
    "<tr>\n",
    "<td style=\"text-align: center; width: 145px;\"><strong>Cricket Wireless</strong></td>\n",
    "<td style=\"text-align: center; width: 375px;\">[insert 10-digit number]@sms.cricketwireless.net</td>\n",
    "<td style=\"text-align: center; width: 20.3646px;\">[insert 10-digit number]@mms.cricketwireless.net</td>\n",
    "</tr>\n",
    "<tr>\n",
    "<td style=\"text-align: center; width: 145px;\"><strong>Project Fi</strong></td>\n",
    "<td style=\"text-align: center; width: 375px;\">[insert 10-digit number]@msg.fi.google.com</td>\n",
    "<td style=\"text-align: center; width: 20.3646px;\">[insert 10-digit number]@msg.fi.google.com</td>\n",
    "</tr>\n",
    "<tr>\n",
    "<td style=\"text-align: center; width: 145px;\"><strong>Sprint</strong></td>\n",
    "<td style=\"text-align: center; width: 375px;\">[insert 10-digit number]@messaging.sprintpcs.com</td>\n",
    "<td style=\"text-align: center; width: 20.3646px;\">[insert 10-digit number]@pm.sprint.com</td>\n",
    "</tr>\n",
    "<tr>\n",
    "<td style=\"text-align: center; width: 145px;\"><strong>T-Mobile</strong></td>\n",
    "<td style=\"text-align: center; width: 375px;\">[insert 10-digit number]@tmomail.net</td>\n",
    "<td style=\"text-align: center; width: 20.3646px;\">[insert 10-digit number]@tmomail.net</td>\n",
    "</tr>\n",
    "<tr>\n",
    "<td style=\"text-align: center; width: 145px;\"><strong>U.S. Cellular</strong></td>\n",
    "<td style=\"text-align: center; width: 375px;\">[insert 10-digit number]@email.uscc.net</td>\n",
    "<td style=\"text-align: center; width: 20.3646px;\">[insert 10-digit number]@mms.uscc.net</td>\n",
    "</tr>\n",
    "<tr>\n",
    "<td style=\"text-align: center; width: 145px;\"><strong>Verizon</strong></td>\n",
    "<td style=\"text-align: center; width: 375px;\">[insert 10-digit number]@vtext.com</td>\n",
    "<td style=\"text-align: center; width: 20.3646px;\">[insert 10-digit number]@vzwpix.com</td>\n",
    "</tr>\n",
    "<tr>\n",
    "<td style=\"text-align: center; width: 145px;\"><strong>Virgin Mobile</strong></td>\n",
    "<td style=\"text-align: center; width: 375px;\">[insert 10-digit number]@vmobl.com</td>\n",
    "<td style=\"text-align: center; width: 20.3646px;\">[insert 10-digit number]@vmpix.com</td>\n",
    "</tr>\n",
    "<tr>\n",
    "<td style=\"text-align: center; width: 145px;\"><strong>Republic Wireless</strong></td>\n",
    "<td style=\"text-align: center; width: 375px;\">[insert 10-digital number]@text.republicwireless.com</td>\n",
    "<td style=\"text-align: center; width: 20.3646px;\"></td>\n",
    "</tr>\n",
    "</tbody>\n",
    "</table>"
   ]
  }
 ],
 "metadata": {
  "kernelspec": {
   "display_name": "Python 3",
   "language": "python",
   "name": "python3"
  },
  "language_info": {
   "codemirror_mode": {
    "name": "ipython",
    "version": 3
   },
   "file_extension": ".py",
   "mimetype": "text/x-python",
   "name": "python",
   "nbconvert_exporter": "python",
   "pygments_lexer": "ipython3",
   "version": "3.6.8"
  }
 },
 "nbformat": 4,
 "nbformat_minor": 2
}
