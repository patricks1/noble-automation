{
 "cells": [
  {
   "cell_type": "markdown",
   "metadata": {},
   "source": [
    "## Setup: Installing Packages"
   ]
  },
  {
   "cell_type": "code",
   "execution_count": null,
   "metadata": {
    "code_folding": [],
    "scrolled": true
   },
   "outputs": [],
   "source": [
    "#!conda install -c conda-forge yagmail selenium premailer"
   ]
  },
  {
   "cell_type": "markdown",
   "metadata": {},
   "source": [
    "## I. Basic Selenium"
   ]
  },
  {
   "cell_type": "markdown",
   "metadata": {},
   "source": [
    "**Import selenium and open webdriver**"
   ]
  },
  {
   "cell_type": "code",
   "execution_count": null,
   "metadata": {},
   "outputs": [],
   "source": [
    "from selenium import webdriver\n",
    "from selenium.webdriver.common.by import By"
   ]
  },
  {
   "cell_type": "code",
   "execution_count": null,
   "metadata": {},
   "outputs": [],
   "source": [
    "################################################################################\n",
    "# Uncomment one of the following three lines corresponding to your OS\n",
    "################################################################################\n",
    "# Newer Mac with \"Apple Silicone\"\n",
    "cService = webdriver.ChromeService(executable_path='./chromedriver_arm')\n",
    "\n",
    "# Older Mac\n",
    "#cService = webdriver.ChromeService(executable_path='./chromedriver') \n",
    "\n",
    "# Windows\n",
    "#cService = webdriver.ChromeService(executable_path='./chromedriver.exe')\n",
    "################################################################################\n",
    "\n",
    "driver = webdriver.Chrome(service = cService)\n",
    "\n",
    "# Whenever `driver` can't find an element, have it wait 1 second and try again.\n",
    "driver.implicitly_wait(1)\n",
    "\n",
    "# Other chromedrivers are available at \n",
    "# https://developer.chrome.com/docs/chromedriver/downloads"
   ]
  },
  {
   "cell_type": "markdown",
   "metadata": {},
   "source": [
    "**Get webpage:** `driver.get(\"https://craigslist.org/\")`"
   ]
  },
  {
   "cell_type": "code",
   "execution_count": null,
   "metadata": {},
   "outputs": [],
   "source": [
    "driver.get(\"https://craigslist.org/\")"
   ]
  },
  {
   "cell_type": "markdown",
   "metadata": {},
   "source": [
    "**Select element by link text:** `link = driver.find_element('link text', \"best-of-craigslist\")`"
   ]
  },
  {
   "cell_type": "code",
   "execution_count": null,
   "metadata": {},
   "outputs": [],
   "source": [
    "link = driver.find_element('link text', \"best-of-craigslist\")"
   ]
  },
  {
   "cell_type": "code",
   "execution_count": null,
   "metadata": {},
   "outputs": [],
   "source": [
    "link.text"
   ]
  },
  {
   "cell_type": "markdown",
   "metadata": {},
   "source": [
    "**Click on element:** `link.click()`"
   ]
  },
  {
   "cell_type": "code",
   "execution_count": null,
   "metadata": {},
   "outputs": [],
   "source": [
    "link.click()"
   ]
  },
  {
   "cell_type": "markdown",
   "metadata": {},
   "source": [
    "**Select element(s) by CSS selector:** `driver.find_elements('css_selector', '.date')`"
   ]
  },
  {
   "cell_type": "code",
   "execution_count": null,
   "metadata": {},
   "outputs": [],
   "source": [
    "dates = driver.find_elements('css selector', '.date')\n",
    "for date in dates:\n",
    "    print(date.text)"
   ]
  },
  {
   "cell_type": "markdown",
   "metadata": {},
   "source": [
    "**Select something other than a link by its text:**  \n",
    "You can use the element's XML path.\n",
    "```python\n",
    "driver.find_element(By.XPATH, \"//tag[text()='element text']\")\n",
    "```\n",
    "If the HTML element is `<a href=\"https://www.craigslist.org\">CL</a>`, the tag is `a`, and the element text is `CL`."
   ]
  },
  {
   "cell_type": "code",
   "execution_count": null,
   "metadata": {},
   "outputs": [],
   "source": [
    "driver.find_element(By.XPATH, \"//a[text()='CL']\").click()"
   ]
  },
  {
   "cell_type": "markdown",
   "metadata": {},
   "source": [
    "## Exercises\n",
    "\n",
    "---\n",
    "\n",
    "**1. Make your browser navigate to** `https://newyork.craigslist.org/`"
   ]
  },
  {
   "cell_type": "code",
   "execution_count": null,
   "metadata": {},
   "outputs": [],
   "source": []
  },
  {
   "cell_type": "markdown",
   "metadata": {},
   "source": [
    "**2. Select and click on the link for** `furniture`"
   ]
  },
  {
   "cell_type": "code",
   "execution_count": null,
   "metadata": {},
   "outputs": [],
   "source": []
  },
  {
   "cell_type": "markdown",
   "metadata": {},
   "source": [
    "**3. Select and click the link labeled** `owner` **to filter down the posts.**"
   ]
  },
  {
   "cell_type": "code",
   "execution_count": null,
   "metadata": {},
   "outputs": [],
   "source": []
  },
  {
   "cell_type": "markdown",
   "metadata": {},
   "source": [
    "**4. Use a CSS selector to target the checkbox labeled** `posted today` **then click it.**"
   ]
  },
  {
   "cell_type": "code",
   "execution_count": null,
   "metadata": {},
   "outputs": [],
   "source": []
  },
  {
   "cell_type": "markdown",
   "metadata": {},
   "source": [
    "**5. Print the text for all elements of the .label class.**"
   ]
  },
  {
   "cell_type": "code",
   "execution_count": null,
   "metadata": {},
   "outputs": [],
   "source": []
  },
  {
   "cell_type": "markdown",
   "metadata": {},
   "source": [
    "**6. Print the result titles**  \n",
    "Notice that the titles of the results have the class `.label`. However, if you want to print only *result titles*, the `.label` class is too inclusive. See if the result titles are children of elements that belong to a class that only includes result titles.\n",
    "\n",
    "\n",
    "\n",
    "*Hint:  \n",
    "To select children of the element with id `hello` that are part of the `.example` class, you would use the CSS selector*\n",
    "```css\n",
    "#hello > .example\n",
    "```"
   ]
  },
  {
   "cell_type": "code",
   "execution_count": null,
   "metadata": {},
   "outputs": [],
   "source": []
  },
  {
   "cell_type": "markdown",
   "metadata": {},
   "source": [
    "**7. Select the search bar at the top of the page, save it as** `search` **, and click it.**  \n",
    "You should see your cursor blinking in the search bar if you're successful"
   ]
  },
  {
   "cell_type": "code",
   "execution_count": null,
   "metadata": {},
   "outputs": [],
   "source": []
  },
  {
   "cell_type": "markdown",
   "metadata": {},
   "source": [
    "## II. Text with Selenium"
   ]
  },
  {
   "cell_type": "markdown",
   "metadata": {},
   "source": [
    "**Get inner text from HTML element:** `element.text`"
   ]
  },
  {
   "cell_type": "code",
   "execution_count": null,
   "metadata": {},
   "outputs": [],
   "source": [
    "element = driver.find_element('css selector', \".posting-title\")\n",
    "element.text"
   ]
  },
  {
   "cell_type": "markdown",
   "metadata": {},
   "source": [
    "**Get attribute from HTML element:** `element.get_attribute('href')`"
   ]
  },
  {
   "cell_type": "code",
   "execution_count": null,
   "metadata": {},
   "outputs": [],
   "source": [
    "element.get_attribute('href')"
   ]
  },
  {
   "cell_type": "markdown",
   "metadata": {},
   "source": [
    "**Input text into field:** `search.send_keys('end table')`"
   ]
  },
  {
   "cell_type": "code",
   "execution_count": null,
   "metadata": {},
   "outputs": [],
   "source": [
    "search.clear()\n",
    "search.send_keys(\"end table\")"
   ]
  },
  {
   "cell_type": "markdown",
   "metadata": {},
   "source": [
    "**Take a screenshot:** `driver.save_screenshot(\"warmup.png\")`\n",
    "\n"
   ]
  },
  {
   "cell_type": "code",
   "execution_count": null,
   "metadata": {},
   "outputs": [],
   "source": [
    "driver.save_screenshot(\"warmup.png\")"
   ]
  },
  {
   "cell_type": "markdown",
   "metadata": {},
   "source": [
    "## Exercises\n",
    "\n",
    "---\n",
    "**1. Use CSS selectors to target the min and max price fields. Store them as** `min_field` **and** `max_field`"
   ]
  },
  {
   "cell_type": "code",
   "execution_count": null,
   "metadata": {},
   "outputs": [],
   "source": []
  },
  {
   "cell_type": "markdown",
   "metadata": {},
   "source": [
    "**2. Use** `.send_keys()` **on** `max_field` **and** `min_field` **to input 5 as minimum and 20 as maximum**\n",
    "\n"
   ]
  },
  {
   "cell_type": "code",
   "execution_count": null,
   "metadata": {},
   "outputs": [],
   "source": []
  },
  {
   "cell_type": "markdown",
   "metadata": {},
   "source": [
    "**3. Use a CSS selector to target the search button and click it.**"
   ]
  },
  {
   "cell_type": "code",
   "execution_count": null,
   "metadata": {},
   "outputs": [],
   "source": []
  },
  {
   "cell_type": "markdown",
   "metadata": {},
   "source": [
    "**4. Take a screenshot of the page with the search results**"
   ]
  },
  {
   "cell_type": "code",
   "execution_count": null,
   "metadata": {},
   "outputs": [],
   "source": []
  },
  {
   "cell_type": "markdown",
   "metadata": {},
   "source": [
    "**5. Select the first result and extract the href attribute**"
   ]
  },
  {
   "cell_type": "code",
   "execution_count": null,
   "metadata": {},
   "outputs": [],
   "source": []
  },
  {
   "cell_type": "markdown",
   "metadata": {},
   "source": [
    "## III. File I/O and Python Review"
   ]
  },
  {
   "cell_type": "markdown",
   "metadata": {},
   "source": [
    "**Read lines from file**"
   ]
  },
  {
   "cell_type": "code",
   "execution_count": null,
   "metadata": {},
   "outputs": [],
   "source": [
    "with open('items.csv') as f:\n",
    "    for line in f.readlines():\n",
    "        print(line)"
   ]
  },
  {
   "cell_type": "markdown",
   "metadata": {},
   "source": [
    "**Splitting a string:**"
   ]
  },
  {
   "cell_type": "code",
   "execution_count": null,
   "metadata": {},
   "outputs": [],
   "source": [
    "\"gucci belt,clothes+acc,2,20\".split(',')"
   ]
  },
  {
   "cell_type": "markdown",
   "metadata": {},
   "source": [
    "**Write to a file**"
   ]
  },
  {
   "cell_type": "code",
   "execution_count": null,
   "metadata": {},
   "outputs": [],
   "source": [
    "with open('results.csv', 'a') as f:\n",
    "    f.write(\"test,test,1,2\\n\")"
   ]
  },
  {
   "cell_type": "markdown",
   "metadata": {},
   "source": [
    "## Exercises\n",
    "\n",
    "---\n",
    "\n",
    "**1. Read in the file** `items.csv` **and use** `.split(\",\")` **on each line within the loop**"
   ]
  },
  {
   "cell_type": "code",
   "execution_count": null,
   "metadata": {},
   "outputs": [],
   "source": []
  },
  {
   "cell_type": "markdown",
   "metadata": {},
   "source": [
    "**2. Save each item in the resulting array as** `description`,`category`,`minimum`,`maximum`"
   ]
  },
  {
   "cell_type": "code",
   "execution_count": null,
   "metadata": {},
   "outputs": [],
   "source": []
  },
  {
   "cell_type": "markdown",
   "metadata": {},
   "source": [
    "**3. Copy/Paste your code from previous exercises into the loop so that your program performs a search based on each line in the file.**  \n",
    "Print the URLs of all the results"
   ]
  },
  {
   "cell_type": "code",
   "execution_count": null,
   "metadata": {},
   "outputs": [],
   "source": []
  },
  {
   "attachments": {},
   "cell_type": "markdown",
   "metadata": {},
   "source": [
    "## IV. Sending e-mail\n",
    "*Note: You must configure your Gmail account to allow Python to use it.* \n",
    "- *If you don't have 2FA configured, you'll need to [enable \"less secure apps\"](https://myaccount.google.com/lesssecureapps).*\n",
    "- *If you do have 2FA configured you'll need to [make an app password for `yagmail`](https://myaccount.google.com/apppasswords)*\n",
    "\n",
    "**Import yagmail package:**"
   ]
  },
  {
   "cell_type": "code",
   "execution_count": null,
   "metadata": {},
   "outputs": [],
   "source": [
    "import yagmail\n",
    "import getpass"
   ]
  },
  {
   "cell_type": "markdown",
   "metadata": {},
   "source": [
    "**Sender username and password**:  "
   ]
  },
  {
   "cell_type": "code",
   "execution_count": null,
   "metadata": {},
   "outputs": [],
   "source": [
    "user = getpass.getpass('User name: ')\n",
    "passw = getpass.getpass(\"Password: \")"
   ]
  },
  {
   "cell_type": "code",
   "execution_count": null,
   "metadata": {},
   "outputs": [],
   "source": [
    "yag = yagmail.SMTP(user, passw)"
   ]
  },
  {
   "cell_type": "markdown",
   "metadata": {},
   "source": [
    "**Send message:** `yag.send(your_address_goes_here, 'this is my subject', \"this is my message\")`\n",
    "\n",
    "Note: If you want to text your phone instead, you can use the table below to find the e-mail address to text.\n",
    "<table class=\"styled\" style=\"width: 547.365px;\" border=\"0\" align=\"center\">\n",
    "<tbody>\n",
    "<tr>\n",
    "<td style=\"text-align: center; width: 145px;\"><strong>Carrier</strong></td>\n",
    "<td style=\"text-align: center; width: 275px;\"><strong>SMS gateway domain</strong></td>\n",
    "<td style=\"text-align: center; width: 275px;\"><strong>MMS gateway domain</strong></td>\n",
    "</tr>\n",
    "<tr>\n",
    "<td style=\"text-align: center; width: 145px;\"><strong>Alltel</strong></td>\n",
    "<td style=\"text-align: center; width: 275px;\">[insert 10-digit number]@message.alltel.com</td>\n",
    "<td style=\"text-align: center; width: 275px;\">[insert 10-digit number]@mms.alltelwireless.com</td>\n",
    "</tr>\n",
    "<tr>\n",
    "<td style=\"text-align: center; width: 145px;\"><strong>AT&amp;T</strong></td>\n",
    "<td style=\"text-align: center; width: 275px;\">[insert 10-digit number]@txt.att.net</td>\n",
    "<td style=\"text-align: center; width: 275px;\">[insert 10-digit number]@mms.att.net</td>\n",
    "</tr>\n",
    "<tr>\n",
    "<td style=\"text-align: center; width: 145px;\"><strong>Boost Mobile</strong></td>\n",
    "<td style=\"text-align: center; width: 275px;\">[insert 10-digit number]@myboostmobile.com</td>\n",
    "<td style=\"text-align: center; width: 275px;\">[insert 10-digit number]@myboostmobile.com</td>\n",
    "</tr>\n",
    "<tr>\n",
    "<td style=\"text-align: center; width: 145px;\"><strong>Cricket Wireless</strong></td>\n",
    "<td style=\"text-align: center; width: 275px;\">[insert 10-digit number]@sms.cricketwireless.net</td>\n",
    "<td style=\"text-align: center; width: 275px;\">[insert 10-digit number]@mms.cricketwireless.net</td>\n",
    "</tr>\n",
    "<tr>\n",
    "<td style=\"text-align: center; width: 145px;\"><strong>Project Fi</strong></td>\n",
    "<td style=\"text-align: center; width: 275px;\">[insert 10-digit number]@msg.fi.google.com</td>\n",
    "<td style=\"text-align: center; width: 275px;\">[insert 10-digit number]@msg.fi.google.com</td>\n",
    "</tr>\n",
    "<tr>\n",
    "<td style=\"text-align: center; width: 145px;\"><strong>Sprint</strong></td>\n",
    "<td style=\"text-align: center; width: 275px;\">[insert 10-digit number]@messaging.sprintpcs.com</td>\n",
    "<td style=\"text-align: center; width: 275px;\">[insert 10-digit number]@pm.sprint.com</td>\n",
    "</tr>\n",
    "<tr>\n",
    "<td style=\"text-align: center; width: 145px;\"><strong>T-Mobile</strong></td>\n",
    "<td style=\"text-align: center; width: 275px;\">[insert 10-digit number]@tmomail.net</td>\n",
    "<td style=\"text-align: center; width: 275px;\">[insert 10-digit number]@tmomail.net</td>\n",
    "</tr>\n",
    "<tr>\n",
    "<td style=\"text-align: center; width: 145px;\"><strong>U.S. Cellular</strong></td>\n",
    "<td style=\"text-align: center; width: 275px;\">[insert 10-digit number]@email.uscc.net</td>\n",
    "<td style=\"text-align: center; width: 275px;\">[insert 10-digit number]@mms.uscc.net</td>\n",
    "</tr>\n",
    "<tr>\n",
    "<td style=\"text-align: center; width: 145px;\"><strong>Verizon</strong></td>\n",
    "<td style=\"text-align: center; width: 275px;\">[insert 10-digit number]@vtext.com</td>\n",
    "<td style=\"text-align: center; width: 275px;\">[insert 10-digit number]@vzwpix.com</td>\n",
    "</tr>\n",
    "<tr>\n",
    "<td style=\"text-align: center; width: 145px;\"><strong>Virgin Mobile</strong></td>\n",
    "<td style=\"text-align: center; width: 275px;\">[insert 10-digit number]@vmobl.com</td>\n",
    "<td style=\"text-align: center; width: 275px;\">[insert 10-digit number]@vmpix.com</td>\n",
    "</tr>\n",
    "<tr>\n",
    "<td style=\"text-align: center; width: 145px;\"><strong>Republic Wireless</strong></td>\n",
    "<td style=\"text-align: center; width: 275px;\">[insert 10-digital number]@text.republicwireless.com</td>\n",
    "<td style=\"text-align: center; width: 275px;\"></td>\n",
    "</tr>\n",
    "</tbody>\n",
    "</table>"
   ]
  },
  {
   "cell_type": "code",
   "execution_count": null,
   "metadata": {},
   "outputs": [],
   "source": [
    "tgt_email = getpass.getpass('Full target email address: ')"
   ]
  },
  {
   "cell_type": "code",
   "execution_count": null,
   "metadata": {},
   "outputs": [],
   "source": [
    "yag.send(tgt_email, 'Test', \"Testing 123\")"
   ]
  },
  {
   "cell_type": "markdown",
   "metadata": {},
   "source": [
    "## Exercises\n",
    "\n",
    "---\n",
    "\n",
    "**1. Use yagmail to send matching links to your e-mail address, instead of writing to file.**"
   ]
  },
  {
   "cell_type": "code",
   "execution_count": null,
   "metadata": {},
   "outputs": [],
   "source": []
  },
  {
   "cell_type": "markdown",
   "metadata": {},
   "source": [
    "**2. Use the table above to find your phone carrier, and send the matching links to your phone.**"
   ]
  },
  {
   "cell_type": "code",
   "execution_count": null,
   "metadata": {},
   "outputs": [],
   "source": []
  }
 ],
 "metadata": {
  "kernelspec": {
   "display_name": "Python 3 (ipykernel)",
   "language": "python",
   "name": "python3"
  },
  "language_info": {
   "codemirror_mode": {
    "name": "ipython",
    "version": 3
   },
   "file_extension": ".py",
   "mimetype": "text/x-python",
   "name": "python",
   "nbconvert_exporter": "python",
   "pygments_lexer": "ipython3",
   "version": "3.12.4"
  }
 },
 "nbformat": 4,
 "nbformat_minor": 4
}
