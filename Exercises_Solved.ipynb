{
 "cells": [
  {
   "cell_type": "markdown",
   "metadata": {},
   "source": [
    "## Setup: Installing Packages"
   ]
  },
  {
   "cell_type": "code",
   "execution_count": 4,
   "metadata": {
    "scrolled": true
   },
   "outputs": [
    {
     "name": "stdout",
     "output_type": "stream",
     "text": [
      "/bin/sh: conda: command not found\r\n"
     ]
    }
   ],
   "source": [
    "!conda install -c conda-forge yagmail selenium"
   ]
  },
  {
   "cell_type": "markdown",
   "metadata": {},
   "source": [
    "## I. Basic Selenium"
   ]
  },
  {
   "cell_type": "markdown",
   "metadata": {},
   "source": [
    "**Import selenium and open webdriver**\n",
    "\n",
    "```python\n",
    "from selenium import webdriver\n",
    "driver = webdriver.Chrome(\"./chromedriver\")\n",
    "```"
   ]
  },
  {
   "cell_type": "code",
   "execution_count": null,
   "metadata": {},
   "outputs": [],
   "source": []
  },
  {
   "cell_type": "markdown",
   "metadata": {},
   "source": [
    "**Get webpage:** `driver.get(\"https://craigslist.org/\")`"
   ]
  },
  {
   "cell_type": "code",
   "execution_count": 15,
   "metadata": {},
   "outputs": [],
   "source": []
  },
  {
   "cell_type": "markdown",
   "metadata": {},
   "source": [
    "**Select element by link text:** `link = driver.find_element_by_link_text(\"best-of-craigslist\")`"
   ]
  },
  {
   "cell_type": "code",
   "execution_count": null,
   "metadata": {},
   "outputs": [],
   "source": []
  },
  {
   "cell_type": "markdown",
   "metadata": {},
   "source": [
    "**Click on element:** `link.click()`"
   ]
  },
  {
   "cell_type": "code",
   "execution_count": null,
   "metadata": {},
   "outputs": [],
   "source": []
  },
  {
   "cell_type": "markdown",
   "metadata": {},
   "source": [
    "**Select element(s) by CSS selector:** `driver.find_elements_by_css_selector('.date')`"
   ]
  },
  {
   "cell_type": "code",
   "execution_count": null,
   "metadata": {},
   "outputs": [],
   "source": []
  },
  {
   "cell_type": "markdown",
   "metadata": {},
   "source": [
    "## Exercises\n",
    "\n",
    "---\n",
    "\n",
    "**1. Make your browser navigate to** `https://newyork.craigslist.org/`"
   ]
  },
  {
   "cell_type": "code",
   "execution_count": 39,
   "metadata": {},
   "outputs": [],
   "source": [
    "driver.get(\"https://newyork.craigslist.org\")"
   ]
  },
  {
   "cell_type": "markdown",
   "metadata": {},
   "source": [
    "**2. Select and click on the link for** `furniture`"
   ]
  },
  {
   "cell_type": "code",
   "execution_count": 6,
   "metadata": {},
   "outputs": [],
   "source": [
    "driver.find_element_by_link_text(\"furniture\").click()"
   ]
  },
  {
   "cell_type": "markdown",
   "metadata": {},
   "source": [
    "**3. Select and click the link labeled** `owner` **to filter down the posts.**"
   ]
  },
  {
   "cell_type": "code",
   "execution_count": 7,
   "metadata": {},
   "outputs": [],
   "source": [
    "driver.find_element_by_link_text(\"owner\").click()"
   ]
  },
  {
   "cell_type": "markdown",
   "metadata": {},
   "source": [
    "**4. Use a CSS selector to target the checkbox labeled** `posted today` **then click it.**"
   ]
  },
  {
   "cell_type": "code",
   "execution_count": 8,
   "metadata": {},
   "outputs": [],
   "source": [
    "driver.find_element_by_css_selector('.postedToday').click()"
   ]
  },
  {
   "cell_type": "markdown",
   "metadata": {},
   "source": [
    "**5. Select the title of the first result and save it as** `element`\n",
    "\n",
    "Hint: Use `.find_element_by_css_selector()` to grab just the first one"
   ]
  },
  {
   "cell_type": "code",
   "execution_count": 12,
   "metadata": {},
   "outputs": [
    {
     "name": "stdout",
     "output_type": "stream",
     "text": [
      "Mid Century Modern Nightstand/End Table by Rway\n",
      "Soft High End End Table/Seat SOLD\n",
      "LR Coffee/End & Buffet Table Set\n",
      "End table with storage basket\n",
      "ONE Oval Coffee Table / Cocktail Table / Side Table\n",
      "Stone 3 Piece Coffee Table Set\n",
      "Small Round Wood / Metal Coffee Table\n",
      "Round coffee and end tables\n",
      "Granite Console Table SOLD\n",
      "Modren Mirror Coffee Table with open storage\n",
      "Custom Made Designer Dining Table\n",
      "High end furniture\n",
      "Large Steamer Trunk (Antique, Vintage, Best Offer)\n",
      "Nightstand\n",
      "Man with van\n",
      "Brand New modern end table ( two available)\n",
      "dining room\n",
      "end table\n",
      "Wrought iron with ceramic top side table for patio or indoor\n",
      "Beautiful timeless wrought iron custom upholstered patio furniture set\n",
      "Household items\n",
      "Solid pine end table\n",
      "Marble End Table\n",
      "Modern End Tables\n",
      "Entertainment Center & Tables\n",
      "Pine Night Stand\n",
      "end table\n"
     ]
    }
   ],
   "source": [
    "results = driver.find_elements_by_css_selector(\".result-title\")\n",
    "\n",
    "for item in results:\n",
    "    print(item.text)"
   ]
  },
  {
   "cell_type": "markdown",
   "metadata": {},
   "source": [
    "**6. Select the search bar at the top of the page save it as** `search`"
   ]
  },
  {
   "cell_type": "code",
   "execution_count": 9,
   "metadata": {},
   "outputs": [],
   "source": [
    "search = driver.find_element_by_css_selector(\"#query\")"
   ]
  },
  {
   "cell_type": "code",
   "execution_count": 10,
   "metadata": {},
   "outputs": [],
   "source": [
    "search.send_keys(\"end table\\n\")"
   ]
  },
  {
   "cell_type": "markdown",
   "metadata": {},
   "source": [
    "## II. Text with Selenium"
   ]
  },
  {
   "cell_type": "markdown",
   "metadata": {},
   "source": [
    "**Get inner text from HTML element:** `element.text`"
   ]
  },
  {
   "cell_type": "code",
   "execution_count": 43,
   "metadata": {},
   "outputs": [
    {
     "data": {
      "text/plain": [
       "'Mid Century Modern styled Pink Sofa'"
      ]
     },
     "execution_count": 43,
     "metadata": {},
     "output_type": "execute_result"
    }
   ],
   "source": [
    "element.text"
   ]
  },
  {
   "cell_type": "markdown",
   "metadata": {},
   "source": [
    "**Get attribute from HTML element:** `element.get_attribute('href')`"
   ]
  },
  {
   "cell_type": "code",
   "execution_count": 44,
   "metadata": {},
   "outputs": [
    {
     "data": {
      "text/plain": [
       "'https://newyork.craigslist.org/jsy/fuo/d/mid-century-modern-styled-pink-sofa/6907387870.html'"
      ]
     },
     "execution_count": 44,
     "metadata": {},
     "output_type": "execute_result"
    }
   ],
   "source": [
    "element.get_attribute('href')"
   ]
  },
  {
   "cell_type": "markdown",
   "metadata": {},
   "source": [
    "**Input text into field:** `search.send_keys('end table')`"
   ]
  },
  {
   "cell_type": "code",
   "execution_count": 37,
   "metadata": {},
   "outputs": [],
   "source": [
    "search.send_keys(\"end table\")"
   ]
  },
  {
   "cell_type": "markdown",
   "metadata": {},
   "source": [
    "**Take a screenshot:** `driver.save_screenshot(\"warmup.png\")`\n",
    "\n"
   ]
  },
  {
   "cell_type": "code",
   "execution_count": 34,
   "metadata": {},
   "outputs": [],
   "source": [
    "driver.save_screenshot(\"warmup.png\")"
   ]
  },
  {
   "cell_type": "markdown",
   "metadata": {},
   "source": [
    "## Exercises\n",
    "\n",
    "---\n",
    "**1. Use CSS selectors to target the min and max price fields. Store them as** `min` **and** `max`"
   ]
  },
  {
   "cell_type": "code",
   "execution_count": 45,
   "metadata": {},
   "outputs": [],
   "source": [
    "min_ = driver.find_element_by_css_selector('input.min')\n",
    "max_ = driver.find_element_by_css_selector('input.max')"
   ]
  },
  {
   "cell_type": "markdown",
   "metadata": {},
   "source": [
    "**2. Use** `.send_keys()` **on** `max` **and** `min` **to input 5 as minimum and 20 as maximum**\n",
    "\n"
   ]
  },
  {
   "cell_type": "code",
   "execution_count": 46,
   "metadata": {},
   "outputs": [],
   "source": [
    "min_.send_keys('5')\n",
    "max_.send_keys('20')"
   ]
  },
  {
   "cell_type": "markdown",
   "metadata": {},
   "source": [
    "**3. Use a CSS selector to target the search button and click it.**"
   ]
  },
  {
   "cell_type": "code",
   "execution_count": 47,
   "metadata": {},
   "outputs": [],
   "source": [
    "driver.find_element_by_css_selector('.searchbtn').click()"
   ]
  },
  {
   "cell_type": "markdown",
   "metadata": {},
   "source": [
    "**4. Take a screenshot of the page with the search results**"
   ]
  },
  {
   "cell_type": "code",
   "execution_count": 48,
   "metadata": {},
   "outputs": [
    {
     "data": {
      "text/plain": [
       "True"
      ]
     },
     "execution_count": 48,
     "metadata": {},
     "output_type": "execute_result"
    }
   ],
   "source": [
    "driver.save_screenshot(\"LiveCodeing.png\")"
   ]
  },
  {
   "cell_type": "markdown",
   "metadata": {},
   "source": [
    "**5. Select the first result and extract the href attribute**"
   ]
  },
  {
   "cell_type": "code",
   "execution_count": 49,
   "metadata": {},
   "outputs": [
    {
     "data": {
      "text/plain": [
       "'https://newyork.craigslist.org/brk/fuo/d/brooklyn-ikea-kullen-2-drawer-chest-set/6908497736.html'"
      ]
     },
     "execution_count": 49,
     "metadata": {},
     "output_type": "execute_result"
    }
   ],
   "source": [
    "driver.find_element_by_css_selector('.result-title').get_attribute('href')"
   ]
  },
  {
   "cell_type": "markdown",
   "metadata": {},
   "source": [
    "## III. File I/O and Python Review"
   ]
  },
  {
   "cell_type": "markdown",
   "metadata": {},
   "source": [
    "**Read lines from file**"
   ]
  },
  {
   "cell_type": "markdown",
   "metadata": {},
   "source": [
    "```python\n",
    "with open('items.csv') as f:\n",
    "    for line in f.readlines():\n",
    "        print(line)\n",
    "```"
   ]
  },
  {
   "cell_type": "code",
   "execution_count": null,
   "metadata": {},
   "outputs": [],
   "source": []
  },
  {
   "cell_type": "markdown",
   "metadata": {},
   "source": [
    "**Splitting a string:** `\"gucci belt,clothes+acc,2,20\".split(\",\")`"
   ]
  },
  {
   "cell_type": "code",
   "execution_count": null,
   "metadata": {},
   "outputs": [],
   "source": []
  },
  {
   "cell_type": "markdown",
   "metadata": {},
   "source": [
    "**Write to a file**"
   ]
  },
  {
   "cell_type": "markdown",
   "metadata": {},
   "source": [
    "```python\n",
    "with open('results.csv', 'a') as f:\n",
    "    f.write(\"test,test,1,2\\n\")\n",
    "```"
   ]
  },
  {
   "cell_type": "code",
   "execution_count": 158,
   "metadata": {},
   "outputs": [],
   "source": []
  },
  {
   "cell_type": "markdown",
   "metadata": {},
   "source": [
    "## Exercises\n",
    "\n",
    "---\n",
    "\n",
    "**1. Read in the file** `items.csv` **and use** `.split(\",\")` **on each line within the loop**"
   ]
  },
  {
   "cell_type": "code",
   "execution_count": null,
   "metadata": {},
   "outputs": [],
   "source": [
    "with open('items.csv') as f:\n",
    "    # For-loop over f.readlines(). Remember to indent!\n",
    "    for line in f.readlines():   \n",
    "        # Each line needs to be split()\n",
    "        line_list = line.split(',')"
   ]
  },
  {
   "cell_type": "markdown",
   "metadata": {},
   "source": [
    "**2. Save each item in the resulting array as** `description`,`category`,`min`,`max`"
   ]
  },
  {
   "cell_type": "code",
   "execution_count": null,
   "metadata": {},
   "outputs": [],
   "source": [
    "with open('items.csv') as f:\n",
    "    # For-loop over f.readlines(). Remember to indent!\n",
    "    for line in f.readlines():\n",
    "        \n",
    "        # Each line needs to be split()\n",
    "        line_list = line.split(',')\n",
    "        description = line_list[0]\n",
    "        category = line_list[1]\n",
    "        min_ = line_list[2]\n",
    "        max_ = line_list[3]"
   ]
  },
  {
   "cell_type": "markdown",
   "metadata": {},
   "source": [
    "**3. Copy/Paste your code from the previous set of exercises into the loop, so that your program performs a search based on each line in the file.**\n"
   ]
  },
  {
   "cell_type": "code",
   "execution_count": null,
   "metadata": {},
   "outputs": [],
   "source": [
    "results = []\n",
    "with open('items.csv') as f:\n",
    "    # For-loop over f.readlines(). Remember to indent!\n",
    "    for line in f.readlines():\n",
    "        \n",
    "        # Each line needs to be split()\n",
    "        line_list = line.split(',')\n",
    "        description = line_list[0]\n",
    "        category = line_list[1]\n",
    "        min_ = line_list[2]\n",
    "        max_ = line_list[3]\n",
    "\n",
    "        driver.get(\"https://newyork.craigslist.org\")\n",
    "        driver.find_element_by_link_text(category).click()\n",
    "        \n",
    "        min_price = driver.find_element_by_css_selector('input.min')\n",
    "        max_price = driver.find_element_by_css_selector('input.max')\n",
    "        min_price.send_keys(min_)\n",
    "        max_price.send_keys(max_)       \n",
    "        \n",
    "        search = driver.find_element_by_css_selector(\"#query\")\n",
    "        search.send_keys(description)\n",
    "        driver.find_element_by_css_selector('.searchbtn').click()\n",
    "        \n",
    "        for link in driver.find_elements_by_css_selector(\".result-title\"):\n",
    "            results.append(link.get_attribute(\"href\"))"
   ]
  },
  {
   "cell_type": "markdown",
   "metadata": {},
   "source": [
    "## IV. Sending e-mail"
   ]
  },
  {
   "cell_type": "markdown",
   "metadata": {},
   "source": [
    "**Import yagmail package:** `import yagmail`"
   ]
  },
  {
   "cell_type": "code",
   "execution_count": 1,
   "metadata": {},
   "outputs": [],
   "source": [
    "import yagmail"
   ]
  },
  {
   "cell_type": "markdown",
   "metadata": {},
   "source": [
    "**Sender username and password**: `yag = yagmail.SMTP('automatedalertbot', wifi_password_goes_here)`"
   ]
  },
  {
   "cell_type": "code",
   "execution_count": 60,
   "metadata": {},
   "outputs": [],
   "source": [
    "yag = yagmail.SMTP('automatedalertbot', replace_with_wifi_password)"
   ]
  },
  {
   "cell_type": "markdown",
   "metadata": {},
   "source": [
    "**Send message:** `yag.send(your_address_goes_here, 'this is my subject', \"this is my message\")`\n",
    "\n",
    "Note: If you want to text your phone instead, you can use the table below to find the e-mail address to text."
   ]
  },
  {
   "cell_type": "code",
   "execution_count": 70,
   "metadata": {},
   "outputs": [
    {
     "data": {
      "text/plain": [
       "{}"
      ]
     },
     "execution_count": 70,
     "metadata": {},
     "output_type": "execute_result"
    }
   ],
   "source": [
    "yag.send(\"robcarrington@gmail.com\", 'this is my subject', \"Testing 123\")"
   ]
  },
  {
   "cell_type": "markdown",
   "metadata": {},
   "source": [
    "## Exercises\n",
    "\n",
    "---\n",
    "\n",
    "**1. Use yagmail to send matching links to your e-mail address, instead of writing to file.**"
   ]
  },
  {
   "cell_type": "code",
   "execution_count": null,
   "metadata": {},
   "outputs": [],
   "source": [
    "yag.send(\"robcarrington@gmail.com\", 'this is my subject', results)"
   ]
  },
  {
   "cell_type": "markdown",
   "metadata": {},
   "source": [
    "**2. Use the table below to find your phone carrier, and send the matching links to your phone.**"
   ]
  },
  {
   "cell_type": "code",
   "execution_count": null,
   "metadata": {},
   "outputs": [],
   "source": [
    "yag.send(\"9252396054@vzwpix.com\", 'Check out this stuff on Craigslist', results)"
   ]
  },
  {
   "cell_type": "markdown",
   "metadata": {},
   "source": [
    "<table class=\"styled\" style=\"width: 547.365px;\" border=\"0\" align=\"center\">\n",
    "<tbody>\n",
    "<tr>\n",
    "<td style=\"text-align: center; width: 145px;\"><strong>Carrier</strong></td>\n",
    "<td style=\"text-align: center; width: 275px;\"><strong>SMS gateway domain</strong></td>\n",
    "<td style=\"text-align: center; width: 275px;\"><strong>MMS gateway domain</strong></td>\n",
    "</tr>\n",
    "<tr>\n",
    "<td style=\"text-align: center; width: 145px;\"><strong>Alltel</strong></td>\n",
    "<td style=\"text-align: center; width: 275px;\">[insert 10-digit number]@message.alltel.com</td>\n",
    "<td style=\"text-align: center; width: 275px;\">[insert 10-digit number]@mms.alltelwireless.com</td>\n",
    "</tr>\n",
    "<tr>\n",
    "<td style=\"text-align: center; width: 145px;\"><strong>AT&amp;T</strong></td>\n",
    "<td style=\"text-align: center; width: 275px;\">[insert 10-digit number]@txt.att.net</td>\n",
    "<td style=\"text-align: center; width: 275px;\">[insert 10-digit number]@mms.att.net</td>\n",
    "</tr>\n",
    "<tr>\n",
    "<td style=\"text-align: center; width: 145px;\"><strong>Boost Mobile</strong></td>\n",
    "<td style=\"text-align: center; width: 275px;\">[insert 10-digit number]@myboostmobile.com</td>\n",
    "<td style=\"text-align: center; width: 275px;\">[insert 10-digit number]@myboostmobile.com</td>\n",
    "</tr>\n",
    "<tr>\n",
    "<td style=\"text-align: center; width: 145px;\"><strong>Cricket Wireless</strong></td>\n",
    "<td style=\"text-align: center; width: 275px;\">[insert 10-digit number]@sms.cricketwireless.net</td>\n",
    "<td style=\"text-align: center; width: 275px;\">[insert 10-digit number]@mms.cricketwireless.net</td>\n",
    "</tr>\n",
    "<tr>\n",
    "<td style=\"text-align: center; width: 145px;\"><strong>Project Fi</strong></td>\n",
    "<td style=\"text-align: center; width: 275px;\">[insert 10-digit number]@msg.fi.google.com</td>\n",
    "<td style=\"text-align: center; width: 275px;\">[insert 10-digit number]@msg.fi.google.com</td>\n",
    "</tr>\n",
    "<tr>\n",
    "<td style=\"text-align: center; width: 145px;\"><strong>Sprint</strong></td>\n",
    "<td style=\"text-align: center; width: 275px;\">[insert 10-digit number]@messaging.sprintpcs.com</td>\n",
    "<td style=\"text-align: center; width: 275px;\">[insert 10-digit number]@pm.sprint.com</td>\n",
    "</tr>\n",
    "<tr>\n",
    "<td style=\"text-align: center; width: 145px;\"><strong>T-Mobile</strong></td>\n",
    "<td style=\"text-align: center; width: 275px;\">[insert 10-digit number]@tmomail.net</td>\n",
    "<td style=\"text-align: center; width: 275px;\">[insert 10-digit number]@tmomail.net</td>\n",
    "</tr>\n",
    "<tr>\n",
    "<td style=\"text-align: center; width: 145px;\"><strong>U.S. Cellular</strong></td>\n",
    "<td style=\"text-align: center; width: 275px;\">[insert 10-digit number]@email.uscc.net</td>\n",
    "<td style=\"text-align: center; width: 275px;\">[insert 10-digit number]@mms.uscc.net</td>\n",
    "</tr>\n",
    "<tr>\n",
    "<td style=\"text-align: center; width: 145px;\"><strong>Verizon</strong></td>\n",
    "<td style=\"text-align: center; width: 275px;\">[insert 10-digit number]@vtext.com</td>\n",
    "<td style=\"text-align: center; width: 275px;\">[insert 10-digit number]@vzwpix.com</td>\n",
    "</tr>\n",
    "<tr>\n",
    "<td style=\"text-align: center; width: 145px;\"><strong>Virgin Mobile</strong></td>\n",
    "<td style=\"text-align: center; width: 275px;\">[insert 10-digit number]@vmobl.com</td>\n",
    "<td style=\"text-align: center; width: 275px;\">[insert 10-digit number]@vmpix.com</td>\n",
    "</tr>\n",
    "<tr>\n",
    "<td style=\"text-align: center; width: 145px;\"><strong>Republic Wireless</strong></td>\n",
    "<td style=\"text-align: center; width: 275px;\">[insert 10-digital number]@text.republicwireless.com</td>\n",
    "<td style=\"text-align: center; width: 275px;\"></td>\n",
    "</tr>\n",
    "</tbody>\n",
    "</table>"
   ]
  },
  {
   "cell_type": "markdown",
   "metadata": {},
   "source": [
    "## With Improvements"
   ]
  },
  {
   "cell_type": "code",
   "execution_count": null,
   "metadata": {},
   "outputs": [],
   "source": [
    "with open('items.csv') as f:\n",
    "    # For-loop over f.readlines(). Remember to indent!\n",
    "    for line in f.readlines():\n",
    "        \n",
    "        # Each line needs to be split()\n",
    "        line_list = line.split(',')\n",
    "        description = line_list[0]\n",
    "        category = line_list[1]\n",
    "        min_ = line_list[2]\n",
    "        max_ = line_list[3]\n",
    "\n",
    "        driver.get(\"https://newyork.craigslist.org\")\n",
    "        driver.find_element_by_link_text(category).click()\n",
    "        \n",
    "        min_price = driver.find_element_by_css_selector('input.min')\n",
    "        max_price = driver.find_element_by_css_selector('input.max')\n",
    "        min_price.send_keys(min_)\n",
    "        max_price.send_keys(max_)\n",
    "        \n",
    "        distance = driver.find_element_by_css_selector('.search_distance')\n",
    "        postal = driver.find_element_by_css_selector('.postal')\n",
    "        distance.send_keys(\"5\")\n",
    "        postal.send_keys(\"11238\")\n",
    "        \n",
    "        \n",
    "        search = driver.find_element_by_css_selector(\"#query\")\n",
    "        search.send_keys(description)\n",
    "        driver.find_element_by_css_selector('.searchbtn').click()\n",
    "        \n",
    "        scam_words = ['rare', 'antique', 'pristine', 'sale!!']\n",
    "        \n",
    "        for link in driver.find_elements_by_css_selector(\".result-title\")[:5]:\n",
    "            scam = False\n",
    "            for word in scam_words:\n",
    "                if word in link.text.lower():\n",
    "                    scam = True\n",
    "                    print(\"SCAM!  \" + link.text)\n",
    "            if not scam:\n",
    "                results.append(link.get_attribute(\"href\"))"
   ]
  }
 ],
 "metadata": {
  "kernelspec": {
   "display_name": "Python 3",
   "language": "python",
   "name": "python3"
  },
  "language_info": {
   "codemirror_mode": {
    "name": "ipython",
    "version": 3
   },
   "file_extension": ".py",
   "mimetype": "text/x-python",
   "name": "python",
   "nbconvert_exporter": "python",
   "pygments_lexer": "ipython3",
   "version": "3.7.6"
  }
 },
 "nbformat": 4,
 "nbformat_minor": 2
}
