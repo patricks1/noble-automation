{
 "cells": [
  {
   "cell_type": "markdown",
   "metadata": {},
   "source": [
    "## Setup: Installing Packages"
   ]
  },
  {
   "cell_type": "code",
   "execution_count": 1,
   "metadata": {
    "scrolled": true
   },
   "outputs": [],
   "source": [
    "#!conda install -c conda-forge yagmail selenium"
   ]
  },
  {
   "cell_type": "markdown",
   "metadata": {},
   "source": [
    "## I. Basic Selenium"
   ]
  },
  {
   "cell_type": "markdown",
   "metadata": {},
   "source": [
    "**Import selenium and open webdriver**"
   ]
  },
  {
   "cell_type": "code",
   "execution_count": 2,
   "metadata": {},
   "outputs": [],
   "source": [
    "from selenium import webdriver\n",
    "from selenium.webdriver.common.by import By"
   ]
  },
  {
   "cell_type": "code",
   "execution_count": 3,
   "metadata": {},
   "outputs": [],
   "source": [
    "################################################################################\n",
    "# Uncomment one of the following three lines corresponding to your OS\n",
    "################################################################################\n",
    "# Newer Mac with \"Apple Silicone\"\n",
    "cService = webdriver.ChromeService(executable_path='./chromedriver_arm')\n",
    "\n",
    "# Older Mac\n",
    "#cService = webdriver.ChromeService(executable_path='./chromedriver') \n",
    "\n",
    "# Windows\n",
    "#cService = webdriver.ChromeService(executable_path='./chromedriver.exe')\n",
    "################################################################################\n",
    "\n",
    "driver = webdriver.Chrome(service = cService)\n",
    "\n",
    "# Whenever `driver` can't find an element, have it wait 1 second and try again.\n",
    "driver.implicitly_wait(1)\n",
    "\n",
    "# Other chromedrivers are available at \n",
    "# https://developer.chrome.com/docs/chromedriver/downloads"
   ]
  },
  {
   "cell_type": "markdown",
   "metadata": {},
   "source": [
    "**Get webpage:** `driver.get(\"https://craigslist.org/\")`"
   ]
  },
  {
   "cell_type": "code",
   "execution_count": 4,
   "metadata": {},
   "outputs": [],
   "source": [
    "driver.get(\"https://craigslist.org/\")"
   ]
  },
  {
   "cell_type": "markdown",
   "metadata": {},
   "source": [
    "**Select element by link text:** `link = driver.find_element('link text', \"best-of-craigslist\")`"
   ]
  },
  {
   "cell_type": "code",
   "execution_count": 5,
   "metadata": {},
   "outputs": [],
   "source": [
    "link = driver.find_element('link text', \"best-of-craigslist\")"
   ]
  },
  {
   "cell_type": "code",
   "execution_count": 6,
   "metadata": {},
   "outputs": [
    {
     "data": {
      "text/plain": [
       "'best-of-craigslist'"
      ]
     },
     "execution_count": 6,
     "metadata": {},
     "output_type": "execute_result"
    }
   ],
   "source": [
    "link.text"
   ]
  },
  {
   "cell_type": "markdown",
   "metadata": {},
   "source": [
    "**Click on element:** `link.click()`"
   ]
  },
  {
   "cell_type": "code",
   "execution_count": 7,
   "metadata": {},
   "outputs": [],
   "source": [
    "link.click()"
   ]
  },
  {
   "cell_type": "markdown",
   "metadata": {},
   "source": [
    "**Select element(s) by CSS selector:** `driver.find_elements('css_selector', '.date')`"
   ]
  },
  {
   "cell_type": "code",
   "execution_count": 8,
   "metadata": {},
   "outputs": [
    {
     "name": "stdout",
     "output_type": "stream",
     "text": [
      "19 May 2024\n",
      "18 Jan 2024\n",
      "17 Jan 2024\n",
      "31 Oct 2023\n",
      "28 Oct 2023\n",
      "28 Sep 2023\n",
      "3 Aug 2023\n",
      "13 Jul 2023\n",
      "30 Jun 2023\n",
      "21 Jun 2023\n",
      "17 Jun 2023\n",
      "9 Jun 2023\n",
      "8 Jun 2023\n",
      "6 Jun 2023\n",
      "2 Jun 2023\n",
      "25 May 2023\n",
      "17 Apr 2023\n",
      "10 Apr 2023\n",
      "19 Mar 2023\n",
      "26 Dec 2022\n",
      "28 Jun 2022\n",
      "6 Aug 2021\n",
      "4 Dec 2020\n",
      "12 Sep 2020\n",
      "29 Mar 2020\n"
     ]
    }
   ],
   "source": [
    "dates = driver.find_elements('css selector', '.date')\n",
    "for date in dates:\n",
    "    print(date.text)"
   ]
  },
  {
   "cell_type": "markdown",
   "metadata": {},
   "source": [
    "**Select something other than a link by its text:**  \n",
    "You can use the element's XML path.\n",
    "```python\n",
    "driver.find_element(By.XPATH, \"//tag[text()='element text']\")\n",
    "```\n",
    "If the HTML element is `<a href=\"https://www.craigslist.org\">CL</a>`, the tag is `a`, and the element text is `CL`."
   ]
  },
  {
   "cell_type": "code",
   "execution_count": 9,
   "metadata": {},
   "outputs": [],
   "source": [
    "driver.find_element(By.XPATH, \"//a[text()='CL']\").click()"
   ]
  },
  {
   "cell_type": "markdown",
   "metadata": {},
   "source": [
    "## Exercises\n",
    "\n",
    "---\n",
    "\n",
    "**1. Make your browser navigate to** `https://newyork.craigslist.org/`"
   ]
  },
  {
   "cell_type": "code",
   "execution_count": 10,
   "metadata": {},
   "outputs": [],
   "source": [
    "driver.get(\"https://newyork.craigslist.org\")"
   ]
  },
  {
   "cell_type": "markdown",
   "metadata": {},
   "source": [
    "**2. Select and click on the link for** `furniture`"
   ]
  },
  {
   "cell_type": "code",
   "execution_count": 11,
   "metadata": {},
   "outputs": [],
   "source": [
    "driver.find_element('link text', \"furniture\").click()"
   ]
  },
  {
   "cell_type": "markdown",
   "metadata": {},
   "source": [
    "**3. Use the** `owner` **button's XML path to filter down the posts.**"
   ]
  },
  {
   "cell_type": "code",
   "execution_count": 12,
   "metadata": {},
   "outputs": [],
   "source": [
    "driver.find_element(By.XPATH, \"//button[text()='owner']\").click()"
   ]
  },
  {
   "cell_type": "markdown",
   "metadata": {},
   "source": [
    "**4. Use a CSS selector to target the checkbox labeled** `posted today` **then click it.**"
   ]
  },
  {
   "cell_type": "code",
   "execution_count": 13,
   "metadata": {},
   "outputs": [],
   "source": [
    "driver.find_element('css selector', '[name=\"postedToday\"]').click()"
   ]
  },
  {
   "cell_type": "markdown",
   "metadata": {},
   "source": [
    "**5. Print the text for all elements of the `.label` class.**"
   ]
  },
  {
   "cell_type": "code",
   "execution_count": 14,
   "metadata": {
    "scrolled": true
   },
   "outputs": [
    {
     "name": "stdout",
     "output_type": "stream",
     "text": [
      "CL\n",
      "new york\n",
      "all new york\n",
      "for sale\n",
      "furniture\n",
      "\n",
      "\n",
      "\n",
      "\n",
      "\n",
      "\n",
      "\n",
      "safety tips\n",
      "prohibited items\n",
      "product recalls\n",
      "avoiding scams\n",
      "\n",
      "gallery\n",
      "newest\n",
      "\n",
      "\n",
      "\n",
      "\n",
      "\n",
      "\n",
      "\n",
      "\n",
      "\n",
      "\n",
      "\n",
      "\n",
      "\n",
      "\n",
      "\n",
      "\n",
      "\n",
      "\n",
      "\n",
      "\n",
      "\n",
      "\n",
      "\n",
      "\n",
      "\n",
      "\n",
      "\n",
      "\n",
      "\n",
      "help\n",
      "safety\n",
      "privacy\n",
      "terms\n",
      "about\n",
      "app\n",
      "\n",
      "\n"
     ]
    }
   ],
   "source": [
    "results = driver.find_elements('css selector', '.label')\n",
    "\n",
    "for item in results:\n",
    "    print(item.text)"
   ]
  },
  {
   "cell_type": "markdown",
   "metadata": {},
   "source": [
    "**6. Print the result titles**  \n",
    "Notice that the titles of the results have the class `.label`. However, if you want to print only *result titles*, the `.label` class is too inclusive. See if the result titles are children of elements that belong to a class that only includes result titles.\n",
    "\n",
    "\n",
    "\n",
    "*Hint:  \n",
    "To select children of the element with id `hello` that are part of the `.example` class, you would use the CSS selector*\n",
    "```css\n",
    "#hello > .example\n",
    "```"
   ]
  },
  {
   "cell_type": "code",
   "execution_count": 15,
   "metadata": {
    "scrolled": true
   },
   "outputs": [
    {
     "name": "stdout",
     "output_type": "stream",
     "text": [
      "Corner Wooden Desk\n",
      "eames herman miller fiberglass shell\n",
      "Basi Oak Queen Bed Frame - Article\n",
      "Architect drawing table\n",
      "Moroccan Hanging Lamp\n",
      "Wood Flat Floor Mirror\n",
      "Wodden Table and Chairs\n",
      "9x12 west elm wool rug\n",
      "Set of Five Salterini Mid-Century Curved Rounded Benches Ex Cond.\n",
      "Wooden Coffee Table\n",
      "Reverie R650 Adjustable Bed Power Base\n",
      "NEED GONE ASAP - FAUX BROWN LEATHER CHAIR\n",
      "For Sale: Sturdy 2-Drawer TV Stand\n",
      "Black Leather Sofa OBO\n",
      "Mid-century modern style round wooden table with steel hairpin legs\n",
      "Homary - Large Center console/TV Stand\n",
      "Vintage Eames brown hopsack Aluminum group chair\n",
      "Golden Bar Stools\n",
      "!!Accent chairs, reception chairs, Dining chairs, Computer Leather\n",
      "DWR Queen Min bed frame - powder coated white frame\n"
     ]
    }
   ],
   "source": [
    "results = driver.find_elements('css selector', '.posting-title')\n",
    "\n",
    "for item in results[:20]:\n",
    "    print(item.text)"
   ]
  },
  {
   "cell_type": "markdown",
   "metadata": {},
   "source": [
    "**7. Select the search bar at the top of the page, save it as** `search` **, and click it.**  \n",
    "You should see your cursor blinking in the search bar if you're successful"
   ]
  },
  {
   "cell_type": "code",
   "execution_count": 16,
   "metadata": {},
   "outputs": [],
   "source": [
    "search = driver.find_element('css selector', '[enterkeyhint=\"search\"]')\n",
    "search.click()"
   ]
  },
  {
   "cell_type": "markdown",
   "metadata": {},
   "source": [
    "## II. Text with Selenium"
   ]
  },
  {
   "cell_type": "markdown",
   "metadata": {},
   "source": [
    "**Get inner text from HTML element:** `element.text`"
   ]
  },
  {
   "cell_type": "code",
   "execution_count": 17,
   "metadata": {},
   "outputs": [
    {
     "data": {
      "text/plain": [
       "'Corner Wooden Desk'"
      ]
     },
     "execution_count": 17,
     "metadata": {},
     "output_type": "execute_result"
    }
   ],
   "source": [
    "element = driver.find_element('css selector', \".posting-title\")\n",
    "element.text"
   ]
  },
  {
   "cell_type": "markdown",
   "metadata": {},
   "source": [
    "**Get attribute from HTML element:** `element.get_attribute('href')`"
   ]
  },
  {
   "cell_type": "code",
   "execution_count": 18,
   "metadata": {},
   "outputs": [
    {
     "data": {
      "text/plain": [
       "'https://newyork.craigslist.org/mnh/fuo/d/new-york-corner-wooden-desk/7761997754.html'"
      ]
     },
     "execution_count": 18,
     "metadata": {},
     "output_type": "execute_result"
    }
   ],
   "source": [
    "element.get_attribute('href')"
   ]
  },
  {
   "cell_type": "markdown",
   "metadata": {},
   "source": [
    "**Input text into field:** `search.send_keys('end table')`"
   ]
  },
  {
   "cell_type": "code",
   "execution_count": 19,
   "metadata": {},
   "outputs": [],
   "source": [
    "search.clear()\n",
    "search.send_keys(\"end table\")"
   ]
  },
  {
   "cell_type": "markdown",
   "metadata": {},
   "source": [
    "**Take a screenshot:** `driver.save_screenshot(\"warmup.png\")`\n",
    "\n"
   ]
  },
  {
   "cell_type": "code",
   "execution_count": 20,
   "metadata": {},
   "outputs": [
    {
     "data": {
      "text/plain": [
       "True"
      ]
     },
     "execution_count": 20,
     "metadata": {},
     "output_type": "execute_result"
    }
   ],
   "source": [
    "driver.save_screenshot(\"warmup.png\")"
   ]
  },
  {
   "cell_type": "markdown",
   "metadata": {},
   "source": [
    "## Exercises\n",
    "\n",
    "---\n",
    "**1. Use CSS selectors to target the min and max price fields. Store them as** `min_field` **and** `max_field`"
   ]
  },
  {
   "cell_type": "code",
   "execution_count": 21,
   "metadata": {},
   "outputs": [],
   "source": [
    "min_field = driver.find_element('css selector', '[placeholder=\"min\"]')\n",
    "max_field = driver.find_element('css selector', '[placeholder=\"max\"]')"
   ]
  },
  {
   "cell_type": "markdown",
   "metadata": {},
   "source": [
    "**2. Use** `.send_keys()` **on** `max_field` **and** `min_field` **to input 5 as minimum and 20 as maximum**\n",
    "\n"
   ]
  },
  {
   "cell_type": "code",
   "execution_count": 22,
   "metadata": {},
   "outputs": [],
   "source": [
    "min_field.send_keys('5')\n",
    "max_field.send_keys('20')"
   ]
  },
  {
   "cell_type": "markdown",
   "metadata": {},
   "source": [
    "**3. Use a CSS selector to target the search button and click it.**"
   ]
  },
  {
   "cell_type": "code",
   "execution_count": 23,
   "metadata": {},
   "outputs": [],
   "source": [
    "driver.find_element('css selector', '.cl-exec-search').click()"
   ]
  },
  {
   "cell_type": "markdown",
   "metadata": {},
   "source": [
    "**4. Take a screenshot of the page with the search results**"
   ]
  },
  {
   "cell_type": "code",
   "execution_count": 24,
   "metadata": {},
   "outputs": [
    {
     "data": {
      "text/plain": [
       "True"
      ]
     },
     "execution_count": 24,
     "metadata": {},
     "output_type": "execute_result"
    }
   ],
   "source": [
    "driver.save_screenshot(\"LiveCoding.png\")"
   ]
  },
  {
   "cell_type": "markdown",
   "metadata": {},
   "source": [
    "**5. Select the first result and extract the href attribute**"
   ]
  },
  {
   "cell_type": "code",
   "execution_count": 25,
   "metadata": {},
   "outputs": [
    {
     "name": "stdout",
     "output_type": "stream",
     "text": [
      "https://newyork.craigslist.org/stn/fuo/d/staten-island-side-table-solid-wood/7761897383.html\n"
     ]
    }
   ],
   "source": [
    "print(driver.find_element(\n",
    "    'css selector', \n",
    "    '.posting-title'\n",
    ").get_attribute('href'))"
   ]
  },
  {
   "cell_type": "markdown",
   "metadata": {},
   "source": [
    "## III. File I/O and Python Review"
   ]
  },
  {
   "cell_type": "markdown",
   "metadata": {},
   "source": [
    "**Read lines from file**"
   ]
  },
  {
   "cell_type": "code",
   "execution_count": 26,
   "metadata": {},
   "outputs": [
    {
     "name": "stdout",
     "output_type": "stream",
     "text": [
      "coffee table,furniture,5,15\n",
      "\n",
      "triumph,motorcycles,800,20000\n",
      "\n"
     ]
    }
   ],
   "source": [
    "with open('items.csv') as f:\n",
    "    for line in f.readlines():\n",
    "        print(line)"
   ]
  },
  {
   "cell_type": "markdown",
   "metadata": {},
   "source": [
    "**Splitting a string:**"
   ]
  },
  {
   "cell_type": "code",
   "execution_count": 27,
   "metadata": {},
   "outputs": [
    {
     "data": {
      "text/plain": [
       "['gucci belt', 'clothes+acc', '2', '20']"
      ]
     },
     "execution_count": 27,
     "metadata": {},
     "output_type": "execute_result"
    }
   ],
   "source": [
    "\"gucci belt,clothes+acc,2,20\".split(\",\")"
   ]
  },
  {
   "cell_type": "markdown",
   "metadata": {},
   "source": [
    "**Write to a file**"
   ]
  },
  {
   "cell_type": "code",
   "execution_count": 28,
   "metadata": {},
   "outputs": [],
   "source": [
    "with open('results.csv', 'a') as f:\n",
    "    f.write(\"test,test,1,2\\n\")"
   ]
  },
  {
   "cell_type": "markdown",
   "metadata": {},
   "source": [
    "## Exercises\n",
    "\n",
    "---\n",
    "\n",
    "**1. Read in the file** `items.csv` **and use** `.split(\",\")` **on each line within the loop**"
   ]
  },
  {
   "cell_type": "code",
   "execution_count": 29,
   "metadata": {},
   "outputs": [],
   "source": [
    "with open('items.csv') as f:\n",
    "    # For-loop over f.readlines(). Remember to indent!\n",
    "    for line in f.readlines():   \n",
    "        #Interpret the comma separated values into a list by \n",
    "        #using `.split()`\n",
    "        line_list = line.split(',')"
   ]
  },
  {
   "cell_type": "markdown",
   "metadata": {},
   "source": [
    "**2. Save each item in the resulting array as** `description`,`category`,`minimum`,`maximum`"
   ]
  },
  {
   "cell_type": "code",
   "execution_count": 30,
   "metadata": {},
   "outputs": [],
   "source": [
    "with open('items.csv') as f:\n",
    "    # For-loop over f.readlines(). Remember to indent!\n",
    "    for line in f.readlines():\n",
    "        \n",
    "        # Each line needs to be split()\n",
    "        line_list = line.split(',')\n",
    "        description, category, minimum, maximum = line_list"
   ]
  },
  {
   "cell_type": "markdown",
   "metadata": {},
   "source": [
    "**3. Copy/Paste your code from previous exercises into the loop so that your program performs a search based on each line in the file.**  \n",
    "Print the URLs of all the results"
   ]
  },
  {
   "cell_type": "code",
   "execution_count": 31,
   "metadata": {
    "scrolled": true
   },
   "outputs": [
    {
     "name": "stdout",
     "output_type": "stream",
     "text": [
      "['coffee table', 'furniture', '5', '15\\n']\n",
      "['triumph', 'motorcycles', '800', '20000\\n']\n"
     ]
    },
    {
     "data": {
      "text/plain": [
       "['https://newyork.craigslist.org/que/fuo/d/little-neck-glass-octangular-coffee/7757661026.html',\n",
       " 'https://newyork.craigslist.org/que/fuo/d/little-neck-coffee-table-antique-stone/7757662174.html',\n",
       " 'https://newyork.craigslist.org/brk/fuo/d/brooklyn-wooden-coffee-table/7761987700.html',\n",
       " 'https://newyork.craigslist.org/brx/fud/d/bronx-restoration-hardware-thaddeus/7761983548.html',\n",
       " 'https://newyork.craigslist.org/mnh/fuo/d/new-york-vtg-80s-memphis-style-designer/7753226277.html',\n",
       " 'https://newyork.craigslist.org/mnh/fuo/d/new-york-vintage-cute-small-handmade/7753426016.html',\n",
       " 'https://newyork.craigslist.org/brk/fuo/d/brooklyn-modern-designer-coffee-table/7761977636.html',\n",
       " 'https://newyork.craigslist.org/brk/fud/d/brooklyn-arhaus-square-coffee-table-was/7761977643.html',\n",
       " 'https://newyork.craigslist.org/mnh/fuo/d/new-york-rattan-bamboo-end-table-glass/7755326246.html',\n",
       " 'https://newyork.craigslist.org/que/fuo/d/flushing-rustic-coffee-table/7756286521.html',\n",
       " 'https://newyork.craigslist.org/wch/fuo/d/briarcliff-manor-glass-gold-coffee/7760460397.html',\n",
       " 'https://newyork.craigslist.org/mnh/fuo/d/new-york-rio-style-coffee-table/7761913444.html',\n",
       " 'https://newyork.craigslist.org/mnh/fuo/d/new-york-pottery-barn-wood-iron/7756522045.html',\n",
       " 'https://newyork.craigslist.org/mnh/fuo/d/new-york-world-market-tier-solid-wood/7759462936.html',\n",
       " 'https://newyork.craigslist.org/mnh/fuo/d/new-york-vintage-decorative-wrought/7759455748.html',\n",
       " 'https://newyork.craigslist.org/mnh/fuo/d/new-york-restoration-hardware-oversized/7759468116.html',\n",
       " 'https://newyork.craigslist.org/mnh/fuo/d/new-york-pottery-barn-clint-oversized/7761326612.html',\n",
       " 'https://newyork.craigslist.org/mnh/fuo/d/new-york-pottery-barn-52-xl-solid-wood/7761349509.html',\n",
       " 'https://newyork.craigslist.org/brk/fuo/d/brooklyn-vintage-postmodern-cream/7760932016.html',\n",
       " 'https://newyork.craigslist.org/brk/fuo/d/brooklyn-vintage-marble-coffee-table/7756340167.html',\n",
       " 'https://newyork.craigslist.org/mnh/fuo/d/brooklyn-coffee-table-with-glass-top/7752606623.html',\n",
       " 'https://newyork.craigslist.org/mnh/fuo/d/new-york-emina-round-tempered-glass/7756523496.html',\n",
       " 'https://newyork.craigslist.org/que/fuo/d/flushing-ikea-vittsj-coffee-table-white/7761911834.html',\n",
       " 'https://newyork.craigslist.org/brk/fuo/d/brooklyn-coffee-table-for-sale-wenge/7760799865.html',\n",
       " 'https://newyork.craigslist.org/mnh/fuo/d/new-york-emanuela-round-geometric-side/7761889966.html',\n",
       " 'https://newyork.craigslist.org/que/fuo/d/astoria-glass-coffee-table/7760148784.html',\n",
       " 'https://newyork.craigslist.org/mnh/fuo/d/new-york-hydra-adjustable-glass-coffee/7761889150.html',\n",
       " 'https://newyork.craigslist.org/brk/fuo/d/brooklyn-brass-coffee-table-and-end/7761180942.html',\n",
       " 'https://newyork.craigslist.org/wch/fuo/d/ossining-widdicomb-mid-century-modern/7759348574.html',\n",
       " 'https://newyork.craigslist.org/wch/fuo/d/ossining-vintage-yin-yang-revolving/7759346183.html',\n",
       " 'https://newyork.craigslist.org/wch/fuo/d/ossining-mid-century-modern-coffee-table/7759342659.html',\n",
       " 'https://newyork.craigslist.org/brk/fuo/d/brooklyn-coffee-table/7761876564.html',\n",
       " 'https://newyork.craigslist.org/mnh/fuo/d/new-york-wrought-iron-studded-mini/7760800856.html',\n",
       " 'https://newyork.craigslist.org/mnh/fuo/d/new-york-world-market-solid-wood-tier/7759864223.html',\n",
       " 'https://newyork.craigslist.org/brk/fuo/d/brooklyn-free-delivery-included-round/7754445317.html',\n",
       " 'https://newyork.craigslist.org/brk/fuo/d/brooklyn-mcm-two-tiered-coffee-table/7758948682.html',\n",
       " 'https://newyork.craigslist.org/brk/fuo/d/brooklyn-70s-post-modern-artedi-coffee/7760311631.html',\n",
       " 'https://newyork.craigslist.org/fct/fuo/d/weston-wood-coffee-table/7761852807.html',\n",
       " 'https://newyork.craigslist.org/que/fuo/d/astoria-18-inch-metal-geometry-coffee/7759330819.html',\n",
       " 'https://newyork.craigslist.org/lgi/fuo/d/garden-city-coffee-table/7761851845.html',\n",
       " 'https://newyork.craigslist.org/fct/fuo/d/norwalk-solid-dark-walnut-finish-coffee/7761850220.html',\n",
       " 'https://newyork.craigslist.org/mnh/fuo/d/new-york-selling-wooden-coffee-table/7761848528.html',\n",
       " 'https://newyork.craigslist.org/que/fuo/d/oakland-gardens-large-coffee-tablefrom/7755358425.html',\n",
       " 'https://newyork.craigslist.org/brk/fuo/d/brooklyn-vintage-slab-of-bowling-lane/7758710735.html',\n",
       " 'https://newyork.craigslist.org/brk/fuo/d/brooklyn-vintage-tile-mosaic-table-tops/7757731029.html',\n",
       " 'https://newyork.craigslist.org/brk/fuo/d/brooklyn-vintage-slab-of-bowling-lane/7753634753.html',\n",
       " 'https://newyork.craigslist.org/mnh/fuo/d/brooklyn-flat-file-cabinet-flat-files/7757731150.html',\n",
       " 'https://newyork.craigslist.org/brk/fuo/d/brooklyn-vintage-wood-kids-school-table/7760192156.html',\n",
       " 'https://newyork.craigslist.org/brk/fuo/d/staten-island-coffee-table/7759322352.html',\n",
       " 'https://newyork.craigslist.org/stn/fuo/d/staten-island-coffee-table/7759322571.html',\n",
       " 'https://newyork.craigslist.org/mnh/fuo/d/new-york-kitchen-table-and-coffee-table/7761827513.html',\n",
       " 'https://newyork.craigslist.org/brk/fuo/d/brooklyn-coffee-table-and-cabinet/7761826091.html',\n",
       " 'https://newyork.craigslist.org/lgi/fuo/d/coffee-table-top-no-legs/7761077609.html',\n",
       " 'https://newyork.craigslist.org/mnh/fuo/d/new-york-cobblers-bench-repurposed-as/7760462162.html',\n",
       " 'https://newyork.craigslist.org/mnh/fuo/d/new-york-fabulous-lucite-coffee-table/7761173560.html',\n",
       " 'https://newyork.craigslist.org/mnh/fuo/d/new-york-glass-top-coffee-table/7761814175.html',\n",
       " 'https://newyork.craigslist.org/lgi/fuo/d/huntington-coffee-table-wood/7760272369.html',\n",
       " 'https://newyork.craigslist.org/mnh/fuo/d/new-york-faux-reclaimed-barnwood-coffee/7754583181.html',\n",
       " 'https://newyork.craigslist.org/fct/fuo/d/fairfield-piece-sectional-couch-tv/7755127725.html',\n",
       " 'https://newyork.craigslist.org/brk/fuo/d/brooklyn-stone-travertine-coffee-table/7757839026.html',\n",
       " 'https://newyork.craigslist.org/brk/fuo/d/brooklyn-mid-century-modern-wood-coffee/7761801421.html',\n",
       " 'https://newyork.craigslist.org/que/fuo/d/woodside-ikea-coffee-table-with-hairpin/7755304089.html',\n",
       " 'https://newyork.craigslist.org/fct/fuo/d/westport-glass-top-coffee-table/7753583278.html',\n",
       " 'https://newyork.craigslist.org/mnh/fuo/d/new-york-mcm-coffee-table-bench-console/7760615620.html',\n",
       " 'https://newyork.craigslist.org/mnh/fuo/d/new-york-ikea-white-coffee-table/7761787605.html',\n",
       " 'https://newyork.craigslist.org/mnh/fuo/d/new-york-glass-coffee-table-with-metal/7754967941.html',\n",
       " 'https://newyork.craigslist.org/mnh/fuo/d/new-york-brass-glass-coffee-table/7761780872.html',\n",
       " 'https://newyork.craigslist.org/brk/fuo/d/brooklyn-vintage-old-style-round-solid/7755273154.html',\n",
       " 'https://newyork.craigslist.org/brk/fuo/d/brooklyn-round-vintage-old-style-solid/7757454119.html',\n",
       " 'https://newyork.craigslist.org/wch/fuo/d/jefferson-valley-outdoor-coffee-table/7755978724.html',\n",
       " 'https://newyork.craigslist.org/wch/fuo/d/armonk-mid-century-modern-long-coffee/7759217036.html',\n",
       " 'https://newyork.craigslist.org/wch/fuo/d/armonk-mid-century-danish-scandinavian/7759211575.html',\n",
       " 'https://newyork.craigslist.org/wch/fuo/d/armonk-mid-century-danish-scandinavian/7759211631.html',\n",
       " 'https://newyork.craigslist.org/wch/fuo/d/armonk-studio-crafted-georges-briard/7759211610.html',\n",
       " 'https://newyork.craigslist.org/wch/fuo/d/armonk-pair-of-mid-century-danish/7753520288.html',\n",
       " 'https://newyork.craigslist.org/wch/fuo/d/armonk-antique-solid-wood-farmhouse/7753539996.html',\n",
       " 'https://newyork.craigslist.org/mnh/fuo/d/new-york-antique-oval-coffee-table-burl/7754991338.html',\n",
       " 'https://newyork.craigslist.org/brk/fuo/d/brooklyn-vintage-burl-waterfall-coffee/7761078899.html',\n",
       " 'https://newyork.craigslist.org/brk/fuo/d/brooklyn-vintage-tiered-coffee-table-set/7752882736.html',\n",
       " 'https://newyork.craigslist.org/brk/fuo/d/brooklyn-urban-outfitters-modern-mid/7760911192.html',\n",
       " 'https://newyork.craigslist.org/brk/fuo/d/coffee-table-antique-real-wood-60/7761756711.html',\n",
       " 'https://newyork.craigslist.org/brk/fuo/d/brooklyn-coffee-table-with-glass-top/7753497919.html',\n",
       " 'https://newyork.craigslist.org/brk/fuo/d/brooklyn-coffee-table-with-glass-top/7752606283.html',\n",
       " 'https://newyork.craigslist.org/wch/fuo/d/norwalk-solid-dark-walnut-finish-coffee/7761752701.html',\n",
       " 'https://newyork.craigslist.org/mnh/fuo/d/new-york-knoll-sm-coffee-table-dwr/7752427884.html',\n",
       " 'https://newyork.craigslist.org/mnh/fuo/d/new-york-pottery-barn-clint-52/7761737826.html',\n",
       " 'https://newyork.craigslist.org/mnh/fuo/d/new-york-pottery-barn-solid-mango-wood/7761737794.html',\n",
       " 'https://newyork.craigslist.org/mnh/fuo/d/new-york-boston-loft-large-tempered/7758492401.html',\n",
       " 'https://newyork.craigslist.org/stn/fuo/d/staten-island-coffee-table/7753043992.html',\n",
       " 'https://newyork.craigslist.org/brk/fuo/d/staten-island-coffee-table/7753043569.html',\n",
       " 'https://newyork.craigslist.org/stn/fuo/d/staten-island-coffee-table/7757283591.html',\n",
       " 'https://newyork.craigslist.org/brk/fuo/d/brooklyn-coffee-table-midcentury-black/7759807809.html',\n",
       " 'https://newyork.craigslist.org/brk/fuo/d/brooklyn-grete-jalk-teak-coffee-table/7759806218.html',\n",
       " 'https://newyork.craigslist.org/brk/fuo/d/kingston-vintage-coffee-table/7761066720.html',\n",
       " 'https://newyork.craigslist.org/brk/fuo/d/brooklyn-widdicomb-coffee-table-walnut/7758379962.html',\n",
       " 'https://newyork.craigslist.org/brk/fuo/d/brooklyn-scandinavian-square-rosewood/7753542895.html',\n",
       " 'https://newyork.craigslist.org/mnh/fuo/d/new-york-industrial-cart-coffee-table/7761678622.html',\n",
       " 'https://newyork.craigslist.org/que/fuo/d/jackson-heights-glass-top-coffee-table/7761676177.html',\n",
       " 'https://newyork.craigslist.org/brk/fuo/d/brooklyn-chintaly-bent-clear-glass/7755854393.html',\n",
       " 'https://newyork.craigslist.org/brk/fuo/d/brooklyn-free-delivery-included-round/7757834595.html',\n",
       " 'https://newyork.craigslist.org/lgi/fuo/d/franklin-square-oriental-asian-coffee/7755975425.html',\n",
       " 'https://newyork.craigslist.org/stn/fuo/d/staten-island-marble-coffee-table/7759661092.html',\n",
       " 'https://newyork.craigslist.org/mnh/fuo/d/new-york-side-table-coffee-table/7760998897.html',\n",
       " 'https://newyork.craigslist.org/mnh/fuo/d/new-york-coffee-table-and-laptop-stand/7761626875.html',\n",
       " 'https://newyork.craigslist.org/wch/fuo/d/briarcliff-manor-coffee-table-with-side/7759095029.html',\n",
       " 'https://newyork.craigslist.org/mnh/fuo/d/new-york-bb-italia-diesis-40-coffee/7761618972.html',\n",
       " 'https://newyork.craigslist.org/brk/fuo/d/brooklyn-west-elm-industrial-pop-up/7761609764.html',\n",
       " 'https://newyork.craigslist.org/que/fuo/d/oakland-gardens-mid-century-modern/7761599566.html',\n",
       " 'https://newyork.craigslist.org/brk/fuo/d/brooklyn-coffee-table-nesting-tables/7757558891.html',\n",
       " 'https://newyork.craigslist.org/fct/fuo/d/new-canaan-coffee-table-with-woven-top/7761590576.html',\n",
       " 'https://newyork.craigslist.org/mnh/fuo/d/new-york-ligne-roset-pascal-mourgue/7761587429.html',\n",
       " 'https://newyork.craigslist.org/brk/fuo/d/brooklyn-glass-top-coffee-table-lightly/7761583756.html',\n",
       " 'https://newyork.craigslist.org/mnh/fud/d/new-york-baker-furniture-milling-road/7761577042.html',\n",
       " 'https://newyork.craigslist.org/que/fuo/d/brooklyn-parsons-granite-coffee-table/7761574956.html',\n",
       " 'https://newyork.craigslist.org/brk/fuo/d/ridgewood-wood-coffee-table/7761567021.html',\n",
       " 'https://newyork.craigslist.org/brk/fuo/d/brooklyn-70s-danish-coffee-table-mcm/7761557402.html',\n",
       " 'https://newyork.craigslist.org/brk/fuo/d/brooklyn-mid-century-danish-coffee-table/7761555780.html',\n",
       " 'https://newyork.craigslist.org/brk/fuo/d/brooklyn-lucite-brass-coffee-table/7760772647.html',\n",
       " 'https://newyork.craigslist.org/brk/fuo/d/brooklyn-regency-style-lyre-shape-burl/7760773896.html',\n",
       " 'https://newyork.craigslist.org/mnh/fuo/d/new-york-two-tier-coffee-table/7760218609.html',\n",
       " 'https://newyork.craigslist.org/brk/mcy/d/brooklyn-2013-triumph-bonneville-865cc/7761833878.html',\n",
       " 'https://newyork.craigslist.org/mnh/mcd/d/new-york-2013-triumph-thunderbird/7761793332.html',\n",
       " 'https://newyork.craigslist.org/mnh/mcd/d/new-york-2023-triumph-tiger-900-gt-pro/7761506471.html',\n",
       " 'https://newyork.craigslist.org/mnh/mcd/d/new-york-2022-triumph-street-triple-rs/7761506338.html',\n",
       " 'https://newyork.craigslist.org/mnh/mcd/d/new-york-2023-triumph-tiger-1200-gt-pro/7761506299.html',\n",
       " 'https://newyork.craigslist.org/que/mcy/d/astoria-2018-triumph-street-twin-matte/7761243004.html',\n",
       " 'https://newyork.craigslist.org/mnh/mcd/d/new-york-2023-triumph-speed-twin/7761185710.html',\n",
       " 'https://newyork.craigslist.org/mnh/mcd/d/new-york-2022-triumph-rocket-gt-triple/7761185650.html',\n",
       " 'https://newyork.craigslist.org/brk/mcy/d/brooklyn-2018-triumph-tiger-800-xrt/7761054165.html',\n",
       " 'https://newyork.craigslist.org/mnh/mcd/d/new-york-2022-triumph-trident-660/7760550346.html',\n",
       " 'https://newyork.craigslist.org/mnh/mcd/d/new-york-2018-triumph-tiger-1200-xca/7760550243.html',\n",
       " 'https://newyork.craigslist.org/mnh/mcy/d/new-york-2016-triumph-scrambler-900/7760461249.html',\n",
       " 'https://newyork.craigslist.org/mnh/mcd/d/new-york-2014-triumph-scrambler-900/7760236422.html',\n",
       " 'https://newyork.craigslist.org/mnh/mcd/d/new-york-2013-triumph-thunderbird/7759896075.html',\n",
       " 'https://newyork.craigslist.org/stn/mcy/d/staten-island-triumph-speedmaster-2012/7759033454.html',\n",
       " 'https://newyork.craigslist.org/que/mcy/d/sunnyside-new-tiger-900/7758954945.html',\n",
       " 'https://newyork.craigslist.org/mnh/mcd/d/new-york-2022-triumph-street-triple-rs/7758830753.html',\n",
       " 'https://newyork.craigslist.org/mnh/mcd/d/new-york-2023-triumph-tiger-900-gt-pro/7758830788.html',\n",
       " 'https://newyork.craigslist.org/que/mcy/d/rego-park-2022-triumph-bobber/7758459366.html',\n",
       " 'https://newyork.craigslist.org/fct/mcy/d/southport-2014-triumph-bonneville-t100/7758418474.html',\n",
       " 'https://newyork.craigslist.org/mnh/mcd/d/new-york-2023-triumph-speed-twin/7758388498.html',\n",
       " 'https://newyork.craigslist.org/mnh/mcd/d/new-york-2023-triumph-tiger-1200-gt-pro/7758388556.html',\n",
       " 'https://newyork.craigslist.org/mnh/mcd/d/new-york-2022-triumph-rocket-gt-triple/7758069872.html',\n",
       " 'https://newyork.craigslist.org/mnh/mcy/d/swan-lake-2019-triumph-street-triple/7757930602.html',\n",
       " 'https://newyork.craigslist.org/lgi/mcy/d/floral-park-2002-triumph-thunderbird-900/7757879283.html',\n",
       " 'https://newyork.craigslist.org/brk/mcy/d/brooklyn-2014-triumph-tiger-800-abs/7757865039.html',\n",
       " 'https://newyork.craigslist.org/mnh/mcd/d/new-york-2013-triumph-street-triple/7757505793.html',\n",
       " 'https://newyork.craigslist.org/jsy/mcy/d/leonia-triumph-caf-racer-900cc-tb-sport/7757367457.html',\n",
       " 'https://newyork.craigslist.org/mnh/mcd/d/new-york-2022-triumph-trident-660/7757235114.html',\n",
       " 'https://newyork.craigslist.org/wch/mcy/d/yonkers-2016-triumph-street-twin-custom/7757215503.html',\n",
       " 'https://newyork.craigslist.org/wch/mcd/d/brewster-2013-triumph-speed-master-865/7757198867.html',\n",
       " 'https://newyork.craigslist.org/mnh/mcd/d/new-york-2018-triumph-tiger-1200-xca/7756915897.html',\n",
       " 'https://newyork.craigslist.org/mnh/mcd/d/new-york-2023-triumph-tiger-900-rally/7756915785.html',\n",
       " 'https://newyork.craigslist.org/wch/mcy/d/yonkers-2020-triumph-tiger/7756761138.html',\n",
       " 'https://newyork.craigslist.org/wch/mcy/d/armonk-2005-triumph-sprint-st-1050-cc/7756759485.html',\n",
       " 'https://newyork.craigslist.org/mnh/mcd/d/new-york-2014-triumph-scrambler-900/7756589730.html',\n",
       " 'https://newyork.craigslist.org/mnh/mcd/d/new-york-2023-triumph-tiger-900-gt-pro/7756263513.html',\n",
       " 'https://newyork.craigslist.org/brk/mcy/d/brooklyn-2020-triumph-daytona-moto2-765/7756125597.html',\n",
       " 'https://newyork.craigslist.org/mnh/mcd/d/new-york-2022-triumph-street-triple-rs/7755931677.html',\n",
       " 'https://newyork.craigslist.org/mnh/mcd/d/new-york-2023-triumph-tiger-1200-gt-pro/7755931561.html',\n",
       " 'https://newyork.craigslist.org/brk/mcy/d/brooklyn-2019-triumph-street-triple/7755832107.html',\n",
       " 'https://newyork.craigslist.org/mnh/mcd/d/new-york-2023-triumph-speed-twin/7755587741.html',\n",
       " 'https://newyork.craigslist.org/que/mcy/d/ridgewood-triumph-bonneville-t100/7755441931.html',\n",
       " 'https://newyork.craigslist.org/mnh/mcd/d/new-york-2022-triumph-rocket-gt-triple/7755296138.html',\n",
       " 'https://newyork.craigslist.org/mnh/mcd/d/new-york-2016-triumph-thruxton-1200/7754334848.html',\n",
       " 'https://newyork.craigslist.org/mnh/mcd/d/new-york-2012-triumph-rocket-iii/7754005171.html',\n",
       " 'https://newyork.craigslist.org/jsy/mcy/d/leonia-mint-condition-triumph/7753331190.html',\n",
       " 'https://newyork.craigslist.org/mnh/mcd/d/new-york-2018-triumph-tiger-1200-xca/7753327849.html',\n",
       " 'https://newyork.craigslist.org/mnh/mcd/d/new-york-2023-triumph-tiger-900-rally/7752738643.html',\n",
       " 'https://newyork.craigslist.org/mnh/mcd/d/new-york-2020-moto-guzzi-v7/7761793386.html',\n",
       " 'https://newyork.craigslist.org/mnh/mcd/d/new-york-2016-ducati-scrambler-classic/7761793357.html',\n",
       " 'https://newyork.craigslist.org/mnh/mcd/d/new-york-2012-triumph-bonneville/7752397548.html',\n",
       " 'https://newyork.craigslist.org/mnh/mcd/d/new-york-2014-triumph-scrambler-900/7752397497.html',\n",
       " 'https://newyork.craigslist.org/mnh/mcd/d/new-york-2014-ducati-monster-696/7761185561.html',\n",
       " 'https://newyork.craigslist.org/mnh/mcd/d/new-york-2016-bmw-nine-black-storm/7760871367.html',\n",
       " 'https://newyork.craigslist.org/mnh/mcd/d/new-york-2021-indian-motorcycle-scout/7760871318.html',\n",
       " 'https://newyork.craigslist.org/mnh/mcd/d/new-york-2016-bmw-k1600gs/7760871194.html',\n",
       " 'https://newyork.craigslist.org/mnh/mcd/d/new-york-2022-harley-davidson-fat-bob/7760550296.html',\n",
       " 'https://newyork.craigslist.org/mnh/mcd/d/new-york-2007-bmw-1200gs/7760236380.html',\n",
       " 'https://newyork.craigslist.org/mnh/mcd/d/new-york-2020-moto-guzzi-v7/7760236260.html',\n",
       " 'https://newyork.craigslist.org/mnh/mcd/d/new-york-2016-ducati-scrambler-classic/7759896246.html',\n",
       " 'https://newyork.craigslist.org/wch/mcy/d/cold-spring-2014-ducati-796-monster-abs/7759733652.html',\n",
       " 'https://newyork.craigslist.org/mnh/mcd/d/new-york-2014-ducati-monster-696/7758069814.html',\n",
       " 'https://newyork.craigslist.org/mnh/mcd/d/new-york-2016-bmw-nine-black-storm/7757746077.html',\n",
       " 'https://newyork.craigslist.org/mnh/mcd/d/new-york-2021-indian-motorcycle-scout/7757746025.html',\n",
       " 'https://newyork.craigslist.org/mnh/mcd/d/new-york-2016-bmw-k1600gs/7757505863.html',\n",
       " 'https://newyork.craigslist.org/mnh/mcd/d/new-york-2022-harley-davidson-fat-bob/7757235040.html',\n",
       " 'https://newyork.craigslist.org/mnh/mcd/d/new-york-2007-bmw-1200gs/7756589612.html',\n",
       " 'https://newyork.craigslist.org/mnh/mcd/d/new-york-2023-bmw-g310gs/7756263572.html',\n",
       " 'https://newyork.craigslist.org/mnh/mcd/d/new-york-2020-indian-motorcycle-indian/7755004467.html',\n",
       " 'https://newyork.craigslist.org/mnh/mcd/d/new-york-2014-ducati-monster-696/7754670749.html',\n",
       " 'https://newyork.craigslist.org/mnh/mcd/d/new-york-2016-bmw-nine-black-storm/7753669711.html',\n",
       " 'https://newyork.craigslist.org/mnh/mcd/d/new-york-2015-harley-davidson-xg500/7753035803.html']"
      ]
     },
     "metadata": {},
     "output_type": "display_data"
    }
   ],
   "source": [
    "results = []\n",
    "with open('items.csv') as f:\n",
    "    # For-loop over f.readlines(). Remember to indent!\n",
    "    for line in f.readlines():\n",
    "        \n",
    "        # Each line needs to be split()\n",
    "        line_list = line.split(',')\n",
    "        print(line_list)\n",
    "        description, category, minimum, maximum = line_list\n",
    "\n",
    "        driver.get(\"https://newyork.craigslist.org\")\n",
    "        driver.find_element('link text', category).click()\n",
    "        \n",
    "        min_price = driver.find_element('css selector', '[placeholder=\"min\"]')\n",
    "        max_price = driver.find_element('css selector', '[placeholder=\"max\"]')\n",
    "        min_price.send_keys(minimum)\n",
    "        max_price.send_keys(maximum)       \n",
    "        \n",
    "        search = driver.find_element('css selector', '[enterkeyhint=\"search\"]')\n",
    "        search.send_keys(description)\n",
    "        driver.find_element('css selector', '.cl-exec-search').click()\n",
    "        \n",
    "        for link in driver.find_elements('css selector', \".posting-title\"):\n",
    "            results.append(link.get_attribute(\"href\"))\n",
    "display(results)"
   ]
  },
  {
   "attachments": {},
   "cell_type": "markdown",
   "metadata": {},
   "source": [
    "## IV. Sending e-mail\n",
    "*Note: You must configure your Gmail account to allow Python to use it.* \n",
    "- *If you don't have 2FA configured, you'll need to [enable \"less secure apps\"](https://myaccount.google.com/lesssecureapps).*\n",
    "- *If you do have 2FA configured you'll need to [make an app password for `yagmail`](https://myaccount.google.com/apppasswords)*\n",
    "\n",
    "**Import yagmail package:**"
   ]
  },
  {
   "cell_type": "code",
   "execution_count": 32,
   "metadata": {},
   "outputs": [],
   "source": [
    "import yagmail\n",
    "import getpass"
   ]
  },
  {
   "cell_type": "markdown",
   "metadata": {},
   "source": [
    "**Sender username and password**:  "
   ]
  },
  {
   "cell_type": "code",
   "execution_count": 33,
   "metadata": {},
   "outputs": [
    {
     "name": "stdin",
     "output_type": "stream",
     "text": [
      "User name:  ········\n",
      "Password:  ········\n"
     ]
    }
   ],
   "source": [
    "user = getpass.getpass('User name: ')\n",
    "passw = getpass.getpass(\"Password: \")"
   ]
  },
  {
   "cell_type": "code",
   "execution_count": 34,
   "metadata": {},
   "outputs": [],
   "source": [
    "yag = yagmail.SMTP(user, passw)"
   ]
  },
  {
   "cell_type": "markdown",
   "metadata": {},
   "source": [
    "**Send message:** `yag.send(your_address_goes_here, 'this is my subject', \"this is my message\")`\n",
    "\n",
    "Note: If you want to text your phone instead, you can use the table below to find the e-mail address to text.\n",
    "<table class=\"styled\" style=\"width: 547.365px;\" border=\"0\" align=\"center\">\n",
    "<tbody>\n",
    "<tr>\n",
    "<td style=\"text-align: center; width: 145px;\"><strong>Carrier</strong></td>\n",
    "<td style=\"text-align: center; width: 275px;\"><strong>SMS gateway domain</strong></td>\n",
    "<td style=\"text-align: center; width: 275px;\"><strong>MMS gateway domain</strong></td>\n",
    "</tr>\n",
    "<tr>\n",
    "<td style=\"text-align: center; width: 145px;\"><strong>Alltel</strong></td>\n",
    "<td style=\"text-align: center; width: 275px;\">[insert 10-digit number]@message.alltel.com</td>\n",
    "<td style=\"text-align: center; width: 275px;\">[insert 10-digit number]@mms.alltelwireless.com</td>\n",
    "</tr>\n",
    "<tr>\n",
    "<td style=\"text-align: center; width: 145px;\"><strong>AT&amp;T</strong></td>\n",
    "<td style=\"text-align: center; width: 275px;\">[insert 10-digit number]@txt.att.net</td>\n",
    "<td style=\"text-align: center; width: 275px;\">[insert 10-digit number]@mms.att.net</td>\n",
    "</tr>\n",
    "<tr>\n",
    "<td style=\"text-align: center; width: 145px;\"><strong>Boost Mobile</strong></td>\n",
    "<td style=\"text-align: center; width: 275px;\">[insert 10-digit number]@myboostmobile.com</td>\n",
    "<td style=\"text-align: center; width: 275px;\">[insert 10-digit number]@myboostmobile.com</td>\n",
    "</tr>\n",
    "<tr>\n",
    "<td style=\"text-align: center; width: 145px;\"><strong>Cricket Wireless</strong></td>\n",
    "<td style=\"text-align: center; width: 275px;\">[insert 10-digit number]@sms.cricketwireless.net</td>\n",
    "<td style=\"text-align: center; width: 275px;\">[insert 10-digit number]@mms.cricketwireless.net</td>\n",
    "</tr>\n",
    "<tr>\n",
    "<td style=\"text-align: center; width: 145px;\"><strong>Project Fi</strong></td>\n",
    "<td style=\"text-align: center; width: 275px;\">[insert 10-digit number]@msg.fi.google.com</td>\n",
    "<td style=\"text-align: center; width: 275px;\">[insert 10-digit number]@msg.fi.google.com</td>\n",
    "</tr>\n",
    "<tr>\n",
    "<td style=\"text-align: center; width: 145px;\"><strong>Sprint</strong></td>\n",
    "<td style=\"text-align: center; width: 275px;\">[insert 10-digit number]@messaging.sprintpcs.com</td>\n",
    "<td style=\"text-align: center; width: 275px;\">[insert 10-digit number]@pm.sprint.com</td>\n",
    "</tr>\n",
    "<tr>\n",
    "<td style=\"text-align: center; width: 145px;\"><strong>T-Mobile</strong></td>\n",
    "<td style=\"text-align: center; width: 275px;\">[insert 10-digit number]@tmomail.net</td>\n",
    "<td style=\"text-align: center; width: 275px;\">[insert 10-digit number]@tmomail.net</td>\n",
    "</tr>\n",
    "<tr>\n",
    "<td style=\"text-align: center; width: 145px;\"><strong>U.S. Cellular</strong></td>\n",
    "<td style=\"text-align: center; width: 275px;\">[insert 10-digit number]@email.uscc.net</td>\n",
    "<td style=\"text-align: center; width: 275px;\">[insert 10-digit number]@mms.uscc.net</td>\n",
    "</tr>\n",
    "<tr>\n",
    "<td style=\"text-align: center; width: 145px;\"><strong>Verizon</strong></td>\n",
    "<td style=\"text-align: center; width: 275px;\">[insert 10-digit number]@vtext.com</td>\n",
    "<td style=\"text-align: center; width: 275px;\">[insert 10-digit number]@vzwpix.com</td>\n",
    "</tr>\n",
    "<tr>\n",
    "<td style=\"text-align: center; width: 145px;\"><strong>Virgin Mobile</strong></td>\n",
    "<td style=\"text-align: center; width: 275px;\">[insert 10-digit number]@vmobl.com</td>\n",
    "<td style=\"text-align: center; width: 275px;\">[insert 10-digit number]@vmpix.com</td>\n",
    "</tr>\n",
    "<tr>\n",
    "<td style=\"text-align: center; width: 145px;\"><strong>Republic Wireless</strong></td>\n",
    "<td style=\"text-align: center; width: 275px;\">[insert 10-digital number]@text.republicwireless.com</td>\n",
    "<td style=\"text-align: center; width: 275px;\"></td>\n",
    "</tr>\n",
    "</tbody>\n",
    "</table>"
   ]
  },
  {
   "cell_type": "code",
   "execution_count": 35,
   "metadata": {},
   "outputs": [
    {
     "name": "stdin",
     "output_type": "stream",
     "text": [
      "Full target email address:  ········\n"
     ]
    }
   ],
   "source": [
    "tgt_email = getpass.getpass('Full target email address: ')"
   ]
  },
  {
   "cell_type": "code",
   "execution_count": 36,
   "metadata": {},
   "outputs": [
    {
     "data": {
      "text/plain": [
       "{}"
      ]
     },
     "execution_count": 36,
     "metadata": {},
     "output_type": "execute_result"
    }
   ],
   "source": [
    "yag.send(tgt_email, 'Test', \"Testing 123\")"
   ]
  },
  {
   "cell_type": "markdown",
   "metadata": {},
   "source": [
    "## Exercises\n",
    "\n",
    "---\n",
    "\n",
    "**1. Use yagmail to send matching links to your e-mail address, instead of writing to file.**"
   ]
  },
  {
   "cell_type": "code",
   "execution_count": 37,
   "metadata": {},
   "outputs": [
    {
     "data": {
      "text/plain": [
       "{}"
      ]
     },
     "execution_count": 37,
     "metadata": {},
     "output_type": "execute_result"
    }
   ],
   "source": [
    "yag.send(tgt_email, 'Automation Results', results)"
   ]
  },
  {
   "cell_type": "markdown",
   "metadata": {},
   "source": [
    "**2. Use the table above to find your phone carrier, and send the matching links from Exercise III.3 to your phone.**"
   ]
  },
  {
   "cell_type": "code",
   "execution_count": 38,
   "metadata": {},
   "outputs": [
    {
     "name": "stdin",
     "output_type": "stream",
     "text": [
      "Phone number (only digits):  ········\n"
     ]
    },
    {
     "data": {
      "text/plain": [
       "{}"
      ]
     },
     "execution_count": 38,
     "metadata": {},
     "output_type": "execute_result"
    }
   ],
   "source": [
    "phone = getpass.getpass('Phone number (only digits): ')\n",
    "domain = 'vzwpix.com'\n",
    "yag.send(phone+'@'+domain, 'Check out this stuff on Craigslist', results)"
   ]
  },
  {
   "cell_type": "markdown",
   "metadata": {},
   "source": [
    "## With Improvements"
   ]
  },
  {
   "cell_type": "code",
   "execution_count": 39,
   "metadata": {},
   "outputs": [
    {
     "name": "stdout",
     "output_type": "stream",
     "text": [
      "https://newyork.craigslist.org/mnh/fuo/d/new-york-side-table-coffee-table/7760998897.html\n",
      "\n",
      "https://newyork.craigslist.org/mnh/fuo/d/new-york-wood-brass-coffee-table-tiers/7760053555.html\n",
      "\n",
      "https://newyork.craigslist.org/brk/fuo/d/brooklyn-compact-circular-coffee-table/7745738381.html\n",
      "\n",
      "https://newyork.craigslist.org/mnh/fuo/d/new-york-table-lampschairstablemetal/7761850556.html\n",
      "\n",
      "https://newyork.craigslist.org/brk/fuo/d/brooklyn-obo-new-couch-table-bookshelf/7757360205.html\n",
      "\n",
      "https://newyork.craigslist.org/brk/mcy/d/brooklyn-2013-triumph-bonneville-865cc/7761833878.html\n",
      "\n",
      "https://newyork.craigslist.org/mnh/mcd/d/new-york-2013-triumph-thunderbird/7761793332.html\n",
      "\n",
      "https://newyork.craigslist.org/mnh/mcd/d/new-york-2023-triumph-tiger-900-gt-pro/7761506471.html\n",
      "\n",
      "https://newyork.craigslist.org/mnh/mcd/d/new-york-2022-triumph-street-triple-rs/7761506338.html\n",
      "\n",
      "https://newyork.craigslist.org/mnh/mcd/d/new-york-2023-triumph-tiger-1200-gt-pro/7761506299.html\n"
     ]
    }
   ],
   "source": [
    "results=[]\n",
    "\n",
    "with open('items.csv') as f:\n",
    "    # For-loop over f.readlines(). Remember to indent!\n",
    "    for line in f.readlines():\n",
    "        \n",
    "        # Each line needs to be split()\n",
    "        line_list = line.split(',')\n",
    "        description, category, minimum, maximum = line_list\n",
    "\n",
    "        driver.get(\"https://newyork.craigslist.org\")\n",
    "        driver.find_element('link text', category).click()\n",
    "\n",
    "        min_price = driver.find_element('css selector', '[placeholder=\"min\"]')\n",
    "        max_price = driver.find_element('css selector', '[placeholder=\"max\"]')\n",
    "        min_price.send_keys(minimum)\n",
    "        max_price.send_keys(maximum)       \n",
    "        \n",
    "        distance = driver.find_element('css selector', '[placeholder=\"miles\"]')\n",
    "        postal = driver.find_element('css selector', '[name=\"postal\"]')\n",
    "        distance.send_keys(\"5\")\n",
    "        postal.send_keys(\"11238\")\n",
    "        \n",
    "        \n",
    "        search = driver.find_element('css selector', '[enterkeyhint=\"search\"]')\n",
    "        search.send_keys(description)\n",
    "        driver.find_element('css selector', '.cl-exec-search').click()\n",
    "        \n",
    "        scam_words = ['rare', 'antique', 'pristine', 'sale!!']\n",
    "        \n",
    "        for link in driver.find_elements('css selector', \".posting-title\")[:5]:\n",
    "            scam = False\n",
    "            for word in scam_words:\n",
    "                if word in link.text.lower():\n",
    "                    scam = True\n",
    "                    print(\"SCAM!  \" + link.text)\n",
    "            if not scam:\n",
    "                results.append(link.get_attribute(\"href\"))\n",
    "print('\\n\\n'.join([result for result in results]))"
   ]
  }
 ],
 "metadata": {
  "kernelspec": {
   "display_name": "Python 3 (ipykernel)",
   "language": "python",
   "name": "python3"
  },
  "language_info": {
   "codemirror_mode": {
    "name": "ipython",
    "version": 3
   },
   "file_extension": ".py",
   "mimetype": "text/x-python",
   "name": "python",
   "nbconvert_exporter": "python",
   "pygments_lexer": "ipython3",
   "version": "3.12.4"
  }
 },
 "nbformat": 4,
 "nbformat_minor": 4
}
