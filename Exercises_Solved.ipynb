{
 "cells": [
  {
   "cell_type": "markdown",
   "metadata": {},
   "source": [
    "## Setup: Installing Packages"
   ]
  },
  {
   "cell_type": "code",
   "execution_count": 1,
   "metadata": {
    "scrolled": true
   },
   "outputs": [],
   "source": [
    "#!conda install -c conda-forge yagmail selenium"
   ]
  },
  {
   "cell_type": "markdown",
   "metadata": {},
   "source": [
    "## I. Basic Selenium"
   ]
  },
  {
   "cell_type": "markdown",
   "metadata": {},
   "source": [
    "**Import selenium and open webdriver**"
   ]
  },
  {
   "cell_type": "code",
   "execution_count": 2,
   "metadata": {},
   "outputs": [],
   "source": [
    "from selenium import webdriver\n",
    "\n",
    "#Uncomment (comment) the following line if you're on Mac (PC).\n",
    "#driver = webdriver.Chrome(\"./chromedriver\")\n",
    "\n",
    "#Uncomment (comment) the following line if you're on PC (Mac).\n",
    "driver = webdriver.Chrome(\"./chromedriver.exe\")"
   ]
  },
  {
   "cell_type": "markdown",
   "metadata": {},
   "source": [
    "**Get webpage:** `driver.get(\"https://craigslist.org/\")`"
   ]
  },
  {
   "cell_type": "code",
   "execution_count": 3,
   "metadata": {},
   "outputs": [],
   "source": [
    "driver.get(\"https://craigslist.org/\")"
   ]
  },
  {
   "cell_type": "markdown",
   "metadata": {},
   "source": [
    "**Select element by link text:** `link = driver.find_element_by_link_text(\"best-of-craigslist\")`"
   ]
  },
  {
   "cell_type": "code",
   "execution_count": 4,
   "metadata": {},
   "outputs": [],
   "source": [
    "link = driver.find_element_by_link_text(\"best-of-craigslist\")"
   ]
  },
  {
   "cell_type": "code",
   "execution_count": 5,
   "metadata": {},
   "outputs": [
    {
     "data": {
      "text/plain": [
       "'best-of-craigslist'"
      ]
     },
     "execution_count": 5,
     "metadata": {},
     "output_type": "execute_result"
    }
   ],
   "source": [
    "link.text"
   ]
  },
  {
   "cell_type": "markdown",
   "metadata": {},
   "source": [
    "**Click on element:** `link.click()`"
   ]
  },
  {
   "cell_type": "code",
   "execution_count": 6,
   "metadata": {},
   "outputs": [],
   "source": [
    "link.click()"
   ]
  },
  {
   "cell_type": "markdown",
   "metadata": {},
   "source": [
    "**Select element(s) by CSS selector:** `driver.find_elements_by_css_selector('.date')`"
   ]
  },
  {
   "cell_type": "code",
   "execution_count": 7,
   "metadata": {},
   "outputs": [
    {
     "name": "stdout",
     "output_type": "stream",
     "text": [
      "['12 Sep 2020', '29 Mar 2020', '8 Jan 2020', '30 Oct 2019', '11 Oct 2019', '11 Sep 2019', '6 Aug 2019', '31 May 2019', '28 May 2019', '4 May 2019', '5 Feb 2019', '27 Jan 2019', '20 Jan 2019', '10 Jan 2019', '4 Dec 2018', '17 Oct 2018', '6 Sep 2018', '23 Aug 2018', '26 Jul 2018', '19 Jun 2018', '8 Jun 2018', '6 Jun 2018', '20 May 2018', '16 May 2018', '6 May 2018']\n"
     ]
    }
   ],
   "source": [
    "dates = driver.find_elements_by_css_selector('.date')\n",
    "print([date.text for date in dates])"
   ]
  },
  {
   "cell_type": "markdown",
   "metadata": {},
   "source": [
    "## Exercises\n",
    "\n",
    "---\n",
    "\n",
    "**1. Make your browser navigate to** `https://newyork.craigslist.org/`"
   ]
  },
  {
   "cell_type": "code",
   "execution_count": 8,
   "metadata": {},
   "outputs": [],
   "source": [
    "driver.get(\"https://newyork.craigslist.org\")"
   ]
  },
  {
   "cell_type": "markdown",
   "metadata": {},
   "source": [
    "**2. Select and click on the link for** `furniture`"
   ]
  },
  {
   "cell_type": "code",
   "execution_count": 9,
   "metadata": {},
   "outputs": [],
   "source": [
    "driver.find_element_by_link_text(\"furniture\").click()"
   ]
  },
  {
   "cell_type": "markdown",
   "metadata": {},
   "source": [
    "**3. Select and click the link labeled** `owner` **to filter down the posts.**"
   ]
  },
  {
   "cell_type": "code",
   "execution_count": 10,
   "metadata": {},
   "outputs": [],
   "source": [
    "driver.find_element_by_link_text(\"owner\").click()"
   ]
  },
  {
   "cell_type": "markdown",
   "metadata": {},
   "source": [
    "**4. Use a CSS selector to target the checkbox labeled** `posted today` **then click it.**"
   ]
  },
  {
   "cell_type": "code",
   "execution_count": 11,
   "metadata": {},
   "outputs": [],
   "source": [
    "driver.find_element_by_css_selector('.postedToday').click()"
   ]
  },
  {
   "cell_type": "markdown",
   "metadata": {},
   "source": [
    "**5. Select the title of the first result and save it as** `element`\n",
    "\n",
    "Hint: Use `.find_element_by_css_selector()` to grab just the first one"
   ]
  },
  {
   "cell_type": "code",
   "execution_count": 12,
   "metadata": {},
   "outputs": [
    {
     "name": "stdout",
     "output_type": "stream",
     "text": [
      "Media Cabinet / Tv Stand\n",
      "*New* Anthropologie Nested Diamond Rug (5X8)\n",
      "Full Bed Mattress\n",
      "Full Bed Frame\n",
      "Ikea - Bookcase / Stand\n",
      "Counter Height Computer and Desk Stool, Black\n",
      "Dining chair with armrests\n",
      "VariDesk® Pro Plus 36 Standing Desk\n",
      "West Elm Bistro Table\n",
      "Beautiful ladder bookshelf!\n",
      "58' Black Ultrasuede Loveseat\n",
      "Storage frame and baskets\n",
      "Storage frame and baskets\n",
      "Solid wood classic chairs $20 each - moving sale!\n",
      "Small cafe dining table\n",
      "Night stand with drawers\n",
      "Bathroom sink w/ vanity, faucet & towel holder\n",
      "Free chair for pickup on UWS\n",
      "Brand New Full Size Mattress in box\n",
      "Dresser and optional bedside table\n",
      "Restoration Hardware Glass Lamp w/ Shade\n",
      "Two folding stools IKEA\n",
      "Victorian style dark wood mirror and medicine cabinet set\n",
      "Bombay & Co Mirror\n",
      "Ikea Kitchen Cart - Discontinued - Great Shape\n",
      "Interior Define - Jasper Chaise Lounge\n",
      "Glass Lamp(s)\n",
      "2 white China cabinet\n",
      "Futon on UWS\n",
      "Swivel Counter Chairs - White (Set of 2)\n",
      "Wooden Stool\n",
      "*New* Anthropologie Hand-Knotted Alia Rug (5x8)\n",
      "BIG solid walnut mirror\n",
      "2 Cube Shelf for sale\n",
      "Mod designer home sale! Rugs, lamp, ,chairs\n",
      "Crate & Barrell Office Chair\n",
      "FREE ikea sleeper couch\n",
      "Bedroom set\n",
      "Coleman sleeping bag!\n",
      "Vintage Cabinet \n",
      "Modani Epopee white TV stand\n",
      "Plush reading pillow perfect for wfh in bed!\n",
      "Cat tree\n",
      "Tall white bookshelf\n",
      "Moving sale!!! Queen/Full Size Bed, Boxspring and Bed Frame For Cheap\n",
      "Two Vintage Panton Chairs by Verner Panton for Vitra\n",
      "Armoir / tall chest\n",
      "Couches\n",
      "Ikea Kritter Kids bed, Mattress and side protection(like new)\n",
      "Rare Vintage Mid Century Pueblo Brutalist Bedroom Set by Lane\n",
      "Vintage Faux Marble Textured Pedestal\n",
      "Pottery Barns\n",
      "Bookcase\n",
      "Ton 14 Caned Dining Chair\n",
      "Zebra chair\n",
      "1960's Vintage Mid Century Display Cabinet\n",
      "Carlyle Queen Sleeper Sofa\n",
      "Unique Wood DRESSER for Sale\n",
      "RH Furniture\n",
      "100% wood dining table set\n",
      "Rocking chair\n",
      "Excellent Ikea Kids Wardrobe for Sale\n",
      "Room & Board Bookcase\n",
      "Vintage Postmodern Custom Made Textured Solid Wood Dining Table\n",
      "Full bed - Upholstered bed frame with headboard\n",
      "West Elm White Tripod Table and Chairs\n",
      "Thomas Pacconi upholstered bench\n",
      "Wayfair 6 drawer dresser - like new\n",
      "MicroAIR MA85\n",
      "Two Leather Armchairs - Great Condition\n",
      "Wooden File cabinet\n",
      "ABC Sofa beautiful condition\n",
      "LED Floor Lamp\n",
      "Malm queen frame dark brown with 2 drawers and 2 drawer chest\n",
      "Vintage Wooden Hope Chest and Japanese Lamps\n",
      "WESTPORT MOVING SALE\n",
      "COFFEE TABLE\n",
      "Friheten gray IKEA sleeper sofa with storage\n",
      "Target nightstand\n",
      "Folding dining table\n",
      "Magazine display. Bookshelf. Kids bookshelf\n",
      "Glass Coffee Table, Mid-Century Modern\n",
      "Bookshelf. Magazine rack. Magazine holder. Kids bookshelf.\n",
      "Solid Entertainment Center\n",
      "Magazine display. Bookshelf/kids bookshelf.\n",
      "sleek office chair\n",
      "Sleeper Sofa\n",
      "Dining room table (extendable)\n",
      "Ikea Poang chair\n",
      "mDesign Fabric Clothing Drawers Storage\n",
      "Ikea portis clothing & shoe rack\n",
      "Hickory and white sleigh bed\n",
      "Restoration hardware armoire\n",
      "Three Louis XVI style LOUIS SOLOMON SIDE CHAIRS\n",
      "Leather Power-Reclining Sofa\n",
      "Amazon Basics Office Swivel Chair - with Muji seat cushion included\n",
      "CB2 BLOX 50\" BENCH\n",
      "Stainless Steel Industrial Tables\n",
      "Ikea ekby valter wooden shelf brackets (4 pairs)\n",
      "Westport Moving Sale\n",
      "Wooden Kitchen table with 4 stools\n",
      "Bar/Counter Stools single or set\n",
      "Shabby Country Green Display Stand / Plant Stand / Accent Table\n",
      "Free Alcohol Cabinet and Entryway Bench\n",
      "Marble and Gold coffee table\n",
      "SLEEPING BEAUTY ADVANTAGE KING MATTRESS 14” W/ BOX SPRINGS\n",
      "Office Chair For Sale\n",
      "Blue Royal Tiffany Desk Chair\n",
      "Story Floating Bookcase by Design Within Reach\n",
      "Curb alert - tall wood bookshelf!\n",
      "(x2) Belleze Silver High Back Metal Stools\n",
      "Full bed\n",
      "Ladder shelf\n",
      "USED PERFECT CONDITION COFFEE TABLE FOR SALE!! FINAL SALE\n",
      "Ikea Fado Table Lamp\n",
      "Gaming chair by rocker\n",
      "Two medium shelving units\n",
      "Comfy gray sofa\n",
      "Slipper Chairs\n",
      "Book shelving form RH\n"
     ]
    }
   ],
   "source": [
    "results = driver.find_elements_by_css_selector(\".result-title\")\n",
    "\n",
    "for item in results:\n",
    "    print(item.text)"
   ]
  },
  {
   "cell_type": "markdown",
   "metadata": {},
   "source": [
    "**6. Select the search bar at the top of the page save it as** `search`"
   ]
  },
  {
   "cell_type": "code",
   "execution_count": 13,
   "metadata": {},
   "outputs": [],
   "source": [
    "search = driver.find_element_by_css_selector(\"#query\")\n",
    "search.click()"
   ]
  },
  {
   "cell_type": "markdown",
   "metadata": {},
   "source": [
    "## II. Text with Selenium"
   ]
  },
  {
   "cell_type": "markdown",
   "metadata": {},
   "source": [
    "**Get inner text from HTML element:** `element.text`"
   ]
  },
  {
   "cell_type": "code",
   "execution_count": 14,
   "metadata": {},
   "outputs": [
    {
     "data": {
      "text/plain": [
       "'Media Cabinet / Tv Stand'"
      ]
     },
     "execution_count": 14,
     "metadata": {},
     "output_type": "execute_result"
    }
   ],
   "source": [
    "element = driver.find_element_by_css_selector(\".result-title\")\n",
    "element.text"
   ]
  },
  {
   "cell_type": "markdown",
   "metadata": {},
   "source": [
    "**Get attribute from HTML element:** `element.get_attribute('href')`"
   ]
  },
  {
   "cell_type": "code",
   "execution_count": 15,
   "metadata": {},
   "outputs": [
    {
     "data": {
      "text/plain": [
       "'https://newyork.craigslist.org/brx/fuo/d/bronx-media-cabinet-tv-stand/7204902610.html'"
      ]
     },
     "execution_count": 15,
     "metadata": {},
     "output_type": "execute_result"
    }
   ],
   "source": [
    "element.get_attribute('href')"
   ]
  },
  {
   "cell_type": "markdown",
   "metadata": {},
   "source": [
    "**Input text into field:** `search.send_keys('end table')`"
   ]
  },
  {
   "cell_type": "code",
   "execution_count": 16,
   "metadata": {},
   "outputs": [],
   "source": [
    "search.send_keys(\"end table\")"
   ]
  },
  {
   "cell_type": "markdown",
   "metadata": {},
   "source": [
    "**Take a screenshot:** `driver.save_screenshot(\"warmup.png\")`\n",
    "\n"
   ]
  },
  {
   "cell_type": "code",
   "execution_count": 17,
   "metadata": {},
   "outputs": [
    {
     "data": {
      "text/plain": [
       "True"
      ]
     },
     "execution_count": 17,
     "metadata": {},
     "output_type": "execute_result"
    }
   ],
   "source": [
    "driver.save_screenshot(\"warmup.png\")"
   ]
  },
  {
   "cell_type": "markdown",
   "metadata": {},
   "source": [
    "## Exercises\n",
    "\n",
    "---\n",
    "**1. Use CSS selectors to target the min and max price fields. Store them as** `min` **and** `max`"
   ]
  },
  {
   "cell_type": "code",
   "execution_count": 18,
   "metadata": {},
   "outputs": [],
   "source": [
    "min_ = driver.find_element_by_css_selector('input.min')\n",
    "max_ = driver.find_element_by_css_selector('input.max')"
   ]
  },
  {
   "cell_type": "markdown",
   "metadata": {},
   "source": [
    "**2. Use** `.send_keys()` **on** `max` **and** `min` **to input 5 as minimum and 20 as maximum**\n",
    "\n"
   ]
  },
  {
   "cell_type": "code",
   "execution_count": 19,
   "metadata": {},
   "outputs": [],
   "source": [
    "min_.send_keys('5')\n",
    "max_.send_keys('20')"
   ]
  },
  {
   "cell_type": "markdown",
   "metadata": {},
   "source": [
    "**3. Use a CSS selector to target the search button and click it.**"
   ]
  },
  {
   "cell_type": "code",
   "execution_count": 20,
   "metadata": {},
   "outputs": [],
   "source": [
    "driver.find_element_by_css_selector('.searchbtn').click()"
   ]
  },
  {
   "cell_type": "markdown",
   "metadata": {},
   "source": [
    "**4. Take a screenshot of the page with the search results**"
   ]
  },
  {
   "cell_type": "code",
   "execution_count": 21,
   "metadata": {},
   "outputs": [
    {
     "data": {
      "text/plain": [
       "True"
      ]
     },
     "execution_count": 21,
     "metadata": {},
     "output_type": "execute_result"
    }
   ],
   "source": [
    "driver.save_screenshot(\"LiveCoding.png\")"
   ]
  },
  {
   "cell_type": "markdown",
   "metadata": {},
   "source": [
    "**5. Select the first result and extract the href attribute**"
   ]
  },
  {
   "cell_type": "code",
   "execution_count": 22,
   "metadata": {},
   "outputs": [
    {
     "name": "stdout",
     "output_type": "stream",
     "text": [
      "https://newyork.craigslist.org/que/fuo/d/brooklyn-rolling-end-table/7204779327.html\n"
     ]
    }
   ],
   "source": [
    "print(driver.find_element_by_css_selector('.result-title'). \\\n",
    "      get_attribute('href'))"
   ]
  },
  {
   "cell_type": "markdown",
   "metadata": {},
   "source": [
    "## III. File I/O and Python Review"
   ]
  },
  {
   "cell_type": "markdown",
   "metadata": {},
   "source": [
    "**Read lines from file**"
   ]
  },
  {
   "cell_type": "markdown",
   "metadata": {},
   "source": [
    "```python\n",
    "with open('items.csv') as f:\n",
    "    for line in f.readlines():\n",
    "        print(line)\n",
    "```"
   ]
  },
  {
   "cell_type": "code",
   "execution_count": 23,
   "metadata": {},
   "outputs": [
    {
     "name": "stdout",
     "output_type": "stream",
     "text": [
      "coffee table,furniture,5,15\n",
      "\n",
      "triumph,motorcycles,800,20000\n",
      "\n"
     ]
    }
   ],
   "source": [
    "with open('items.csv') as f:\n",
    "    for line in f.readlines():\n",
    "        print(line)"
   ]
  },
  {
   "cell_type": "markdown",
   "metadata": {},
   "source": [
    "**Splitting a string:** `\"gucci belt,clothes+acc,2,20\".split(\",\")`"
   ]
  },
  {
   "cell_type": "code",
   "execution_count": null,
   "metadata": {},
   "outputs": [],
   "source": []
  },
  {
   "cell_type": "markdown",
   "metadata": {},
   "source": [
    "**Write to a file**"
   ]
  },
  {
   "cell_type": "markdown",
   "metadata": {},
   "source": [
    "```python\n",
    "with open('results.csv', 'a') as f:\n",
    "    f.write(\"test,test,1,2\\n\")\n",
    "```"
   ]
  },
  {
   "cell_type": "code",
   "execution_count": null,
   "metadata": {},
   "outputs": [],
   "source": []
  },
  {
   "cell_type": "markdown",
   "metadata": {},
   "source": [
    "## Exercises\n",
    "\n",
    "---\n",
    "\n",
    "**1. Read in the file** `items.csv` **and use** `.split(\",\")` **on each line within the loop**"
   ]
  },
  {
   "cell_type": "code",
   "execution_count": 24,
   "metadata": {},
   "outputs": [],
   "source": [
    "with open('items.csv') as f:\n",
    "    # For-loop over f.readlines(). Remember to indent!\n",
    "    for line in f.readlines():   \n",
    "        # Each line needs to be split()\n",
    "        line_list = line.split(',')"
   ]
  },
  {
   "cell_type": "markdown",
   "metadata": {},
   "source": [
    "**2. Save each item in the resulting array as** `description`,`category`,`min`,`max`"
   ]
  },
  {
   "cell_type": "code",
   "execution_count": 25,
   "metadata": {},
   "outputs": [],
   "source": [
    "with open('items.csv') as f:\n",
    "    # For-loop over f.readlines(). Remember to indent!\n",
    "    for line in f.readlines():\n",
    "        \n",
    "        # Each line needs to be split()\n",
    "        line_list = line.split(',')\n",
    "        description = line_list[0]\n",
    "        category = line_list[1]\n",
    "        min_ = line_list[2]\n",
    "        max_ = line_list[3]"
   ]
  },
  {
   "cell_type": "markdown",
   "metadata": {},
   "source": [
    "**3. Copy/Paste your code from the previous set of exercises into the loop, so that your program performs a search based on each line in the file.**\n"
   ]
  },
  {
   "cell_type": "code",
   "execution_count": 26,
   "metadata": {},
   "outputs": [
    {
     "name": "stdout",
     "output_type": "stream",
     "text": [
      "['coffee table', 'furniture', '5', '15\\n']\n",
      "['triumph', 'motorcycles', '800', '20000\\n']\n"
     ]
    }
   ],
   "source": [
    "results = []\n",
    "with open('items.csv') as f:\n",
    "    # For-loop over f.readlines(). Remember to indent!\n",
    "    for line in f.readlines():\n",
    "        \n",
    "        # Each line needs to be split()\n",
    "        line_list = line.split(',')\n",
    "        print(line_list)\n",
    "        description = line_list[0]\n",
    "        category = line_list[1]\n",
    "        min_ = line_list[2]\n",
    "        max_ = line_list[3]\n",
    "\n",
    "        driver.get(\"https://newyork.craigslist.org\")\n",
    "        driver.find_element_by_link_text(category).click()\n",
    "        \n",
    "        min_price = driver.find_element_by_css_selector('input.min')\n",
    "        max_price = driver.find_element_by_css_selector('input.max')\n",
    "        min_price.send_keys(min_)\n",
    "        max_price.send_keys(max_)       \n",
    "        \n",
    "        search = driver.find_element_by_css_selector(\"#query\")\n",
    "        search.send_keys(description)\n",
    "        driver.find_element_by_css_selector('.searchbtn').click()\n",
    "        \n",
    "        for link in driver.find_elements_by_css_selector(\".result-title\"):\n",
    "            results.append(link.get_attribute(\"href\"))"
   ]
  },
  {
   "cell_type": "markdown",
   "metadata": {},
   "source": [
    "## IV. Sending e-mail"
   ]
  },
  {
   "cell_type": "markdown",
   "metadata": {},
   "source": [
    "**Import yagmail package:** `import yagmail`"
   ]
  },
  {
   "cell_type": "code",
   "execution_count": 29,
   "metadata": {},
   "outputs": [],
   "source": [
    "import yagmail\n",
    "import getpass"
   ]
  },
  {
   "cell_type": "markdown",
   "metadata": {},
   "source": [
    "**Sender username and password**: `yag = yagmail.SMTP('automatedalertbot', wifi_password_goes_here)`"
   ]
  },
  {
   "cell_type": "code",
   "execution_count": 30,
   "metadata": {},
   "outputs": [
    {
     "name": "stdout",
     "output_type": "stream",
     "text": [
      "User name: ········\n",
      "Password: ········\n"
     ]
    }
   ],
   "source": [
    "user = getpass.getpass('User name: ')\n",
    "passw = getpass.getpass(\"Password: \")"
   ]
  },
  {
   "cell_type": "code",
   "execution_count": 31,
   "metadata": {},
   "outputs": [],
   "source": [
    "yag = yagmail.SMTP(user, passw)"
   ]
  },
  {
   "cell_type": "markdown",
   "metadata": {},
   "source": [
    "**Send message:** `yag.send(your_address_goes_here, 'this is my subject', \"this is my message\")`\n",
    "\n",
    "Note: If you want to text your phone instead, you can use the table below to find the e-mail address to text."
   ]
  },
  {
   "cell_type": "code",
   "execution_count": 32,
   "metadata": {},
   "outputs": [
    {
     "name": "stdout",
     "output_type": "stream",
     "text": [
      "Full target email address: ········\n"
     ]
    }
   ],
   "source": [
    "tgt_email = getpass.getpass('Full target email address: ')"
   ]
  },
  {
   "cell_type": "code",
   "execution_count": 33,
   "metadata": {},
   "outputs": [
    {
     "data": {
      "text/plain": [
       "{}"
      ]
     },
     "execution_count": 33,
     "metadata": {},
     "output_type": "execute_result"
    }
   ],
   "source": [
    "yag.send(tgt_email, 'Test', \"Testing 123\")"
   ]
  },
  {
   "cell_type": "markdown",
   "metadata": {},
   "source": [
    "## Exercises\n",
    "\n",
    "---\n",
    "\n",
    "**1. Use yagmail to send matching links to your e-mail address, instead of writing to file.**"
   ]
  },
  {
   "cell_type": "code",
   "execution_count": 34,
   "metadata": {},
   "outputs": [
    {
     "data": {
      "text/plain": [
       "{}"
      ]
     },
     "execution_count": 34,
     "metadata": {},
     "output_type": "execute_result"
    }
   ],
   "source": [
    "yag.send(tgt_email, 'Automation Results', results)"
   ]
  },
  {
   "cell_type": "markdown",
   "metadata": {},
   "source": [
    "**2. Use the table below to find your phone carrier, and send the matching links to your phone.**"
   ]
  },
  {
   "cell_type": "code",
   "execution_count": 35,
   "metadata": {},
   "outputs": [
    {
     "name": "stdout",
     "output_type": "stream",
     "text": [
      "Phone number (only digits): ········\n"
     ]
    },
    {
     "data": {
      "text/plain": [
       "{}"
      ]
     },
     "execution_count": 35,
     "metadata": {},
     "output_type": "execute_result"
    }
   ],
   "source": [
    "phone = getpass.getpass('Phone number (only digits): ')\n",
    "domain = 'vzwpix.com'\n",
    "yag.send(phone+'@'+domain, 'Check out this stuff on Craigslist', results)"
   ]
  },
  {
   "cell_type": "markdown",
   "metadata": {},
   "source": [
    "<table class=\"styled\" style=\"width: 547.365px;\" border=\"0\" align=\"center\">\n",
    "<tbody>\n",
    "<tr>\n",
    "<td style=\"text-align: center; width: 145px;\"><strong>Carrier</strong></td>\n",
    "<td style=\"text-align: center; width: 275px;\"><strong>SMS gateway domain</strong></td>\n",
    "<td style=\"text-align: center; width: 275px;\"><strong>MMS gateway domain</strong></td>\n",
    "</tr>\n",
    "<tr>\n",
    "<td style=\"text-align: center; width: 145px;\"><strong>Alltel</strong></td>\n",
    "<td style=\"text-align: center; width: 275px;\">[insert 10-digit number]@message.alltel.com</td>\n",
    "<td style=\"text-align: center; width: 275px;\">[insert 10-digit number]@mms.alltelwireless.com</td>\n",
    "</tr>\n",
    "<tr>\n",
    "<td style=\"text-align: center; width: 145px;\"><strong>AT&amp;T</strong></td>\n",
    "<td style=\"text-align: center; width: 275px;\">[insert 10-digit number]@txt.att.net</td>\n",
    "<td style=\"text-align: center; width: 275px;\">[insert 10-digit number]@mms.att.net</td>\n",
    "</tr>\n",
    "<tr>\n",
    "<td style=\"text-align: center; width: 145px;\"><strong>Boost Mobile</strong></td>\n",
    "<td style=\"text-align: center; width: 275px;\">[insert 10-digit number]@myboostmobile.com</td>\n",
    "<td style=\"text-align: center; width: 275px;\">[insert 10-digit number]@myboostmobile.com</td>\n",
    "</tr>\n",
    "<tr>\n",
    "<td style=\"text-align: center; width: 145px;\"><strong>Cricket Wireless</strong></td>\n",
    "<td style=\"text-align: center; width: 275px;\">[insert 10-digit number]@sms.cricketwireless.net</td>\n",
    "<td style=\"text-align: center; width: 275px;\">[insert 10-digit number]@mms.cricketwireless.net</td>\n",
    "</tr>\n",
    "<tr>\n",
    "<td style=\"text-align: center; width: 145px;\"><strong>Project Fi</strong></td>\n",
    "<td style=\"text-align: center; width: 275px;\">[insert 10-digit number]@msg.fi.google.com</td>\n",
    "<td style=\"text-align: center; width: 275px;\">[insert 10-digit number]@msg.fi.google.com</td>\n",
    "</tr>\n",
    "<tr>\n",
    "<td style=\"text-align: center; width: 145px;\"><strong>Sprint</strong></td>\n",
    "<td style=\"text-align: center; width: 275px;\">[insert 10-digit number]@messaging.sprintpcs.com</td>\n",
    "<td style=\"text-align: center; width: 275px;\">[insert 10-digit number]@pm.sprint.com</td>\n",
    "</tr>\n",
    "<tr>\n",
    "<td style=\"text-align: center; width: 145px;\"><strong>T-Mobile</strong></td>\n",
    "<td style=\"text-align: center; width: 275px;\">[insert 10-digit number]@tmomail.net</td>\n",
    "<td style=\"text-align: center; width: 275px;\">[insert 10-digit number]@tmomail.net</td>\n",
    "</tr>\n",
    "<tr>\n",
    "<td style=\"text-align: center; width: 145px;\"><strong>U.S. Cellular</strong></td>\n",
    "<td style=\"text-align: center; width: 275px;\">[insert 10-digit number]@email.uscc.net</td>\n",
    "<td style=\"text-align: center; width: 275px;\">[insert 10-digit number]@mms.uscc.net</td>\n",
    "</tr>\n",
    "<tr>\n",
    "<td style=\"text-align: center; width: 145px;\"><strong>Verizon</strong></td>\n",
    "<td style=\"text-align: center; width: 275px;\">[insert 10-digit number]@vtext.com</td>\n",
    "<td style=\"text-align: center; width: 275px;\">[insert 10-digit number]@vzwpix.com</td>\n",
    "</tr>\n",
    "<tr>\n",
    "<td style=\"text-align: center; width: 145px;\"><strong>Virgin Mobile</strong></td>\n",
    "<td style=\"text-align: center; width: 275px;\">[insert 10-digit number]@vmobl.com</td>\n",
    "<td style=\"text-align: center; width: 275px;\">[insert 10-digit number]@vmpix.com</td>\n",
    "</tr>\n",
    "<tr>\n",
    "<td style=\"text-align: center; width: 145px;\"><strong>Republic Wireless</strong></td>\n",
    "<td style=\"text-align: center; width: 275px;\">[insert 10-digital number]@text.republicwireless.com</td>\n",
    "<td style=\"text-align: center; width: 275px;\"></td>\n",
    "</tr>\n",
    "</tbody>\n",
    "</table>"
   ]
  },
  {
   "cell_type": "markdown",
   "metadata": {},
   "source": [
    "## With Improvements"
   ]
  },
  {
   "cell_type": "code",
   "execution_count": 41,
   "metadata": {},
   "outputs": [
    {
     "name": "stdout",
     "output_type": "stream",
     "text": [
      "https://newyork.craigslist.org/que/fuo/d/brooklyn-parsons-coffee-table/7201559740.html\n",
      "\n",
      "https://newyork.craigslist.org/brk/fuo/d/brooklyn-coffee-table-dark-wood/7203404850.html\n",
      "\n",
      "https://newyork.craigslist.org/brk/fuo/d/brooklyn-ikea-lack-coffee-table/7203303447.html\n",
      "\n",
      "https://newyork.craigslist.org/mnh/fuo/d/new-york-coffee-table/7203264702.html\n",
      "\n",
      "https://newyork.craigslist.org/brk/fuo/d/brooklyn-moving-sale-storage-bed-lamps/7203167973.html\n",
      "\n",
      "https://newyork.craigslist.org/mnh/mcy/d/new-york-triumph-tr6-tiger-650/7204149010.html\n",
      "\n",
      "https://newyork.craigslist.org/lgi/mcy/d/long-island-city-2009-triumph-bonneville/7201183758.html\n",
      "\n",
      "https://newyork.craigslist.org/mnh/mcy/d/new-york-2013-triumph-speed-triple/7199641252.html\n",
      "\n",
      "https://newyork.craigslist.org/brk/mcy/d/brooklyn-2012-triumph-speed-triple-with/7197399921.html\n",
      "\n",
      "https://newyork.craigslist.org/brk/mcy/d/long-island-city-2018-triumph-thruxton/7195654904.html\n"
     ]
    }
   ],
   "source": [
    "results=[]\n",
    "\n",
    "with open('items.csv') as f:\n",
    "    # For-loop over f.readlines(). Remember to indent!\n",
    "    for line in f.readlines():\n",
    "        \n",
    "        # Each line needs to be split()\n",
    "        line_list = line.split(',')\n",
    "        description = line_list[0]\n",
    "        category = line_list[1]\n",
    "        min_ = line_list[2]\n",
    "        max_ = line_list[3]\n",
    "\n",
    "        driver.get(\"https://newyork.craigslist.org\")\n",
    "        driver.find_element_by_link_text(category).click()\n",
    "        \n",
    "        min_price = driver.find_element_by_css_selector('input.min')\n",
    "        max_price = driver.find_element_by_css_selector('input.max')\n",
    "        min_price.send_keys(min_)\n",
    "        max_price.send_keys(max_)\n",
    "        \n",
    "        distance = driver.find_element_by_css_selector('.search_distance')\n",
    "        postal = driver.find_element_by_css_selector('.postal')\n",
    "        distance.send_keys(\"5\")\n",
    "        postal.send_keys(\"11238\")\n",
    "        \n",
    "        \n",
    "        search = driver.find_element_by_css_selector(\"#query\")\n",
    "        search.send_keys(description)\n",
    "        driver.find_element_by_css_selector('.searchbtn').click()\n",
    "        \n",
    "        scam_words = ['rare', 'antique', 'pristine', 'sale!!']\n",
    "        \n",
    "        for link in driver.find_elements_by_css_selector(\".result-title\")[:5]:\n",
    "            scam = False\n",
    "            for word in scam_words:\n",
    "                if word in link.text.lower():\n",
    "                    scam = True\n",
    "                    print(\"SCAM!  \" + link.text)\n",
    "            if not scam:\n",
    "                results.append(link.get_attribute(\"href\"))\n",
    "print('\\n\\n'.join([result for result in results]))"
   ]
  }
 ],
 "metadata": {
  "kernelspec": {
   "display_name": "Python 3 (ipykernel)",
   "language": "python",
   "name": "python3"
  },
  "language_info": {
   "codemirror_mode": {
    "name": "ipython",
    "version": 3
   },
   "file_extension": ".py",
   "mimetype": "text/x-python",
   "name": "python",
   "nbconvert_exporter": "python",
   "pygments_lexer": "ipython3",
   "version": "3.10.1"
  }
 },
 "nbformat": 4,
 "nbformat_minor": 2
}
